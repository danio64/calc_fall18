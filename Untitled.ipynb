{
 "cells": [
  {
   "cell_type": "code",
   "execution_count": 1,
   "metadata": {},
   "outputs": [],
   "source": [
    "import requests\n",
    "from bs4 import BeautifulSoup"
   ]
  },
  {
   "cell_type": "code",
   "execution_count": 2,
   "metadata": {},
   "outputs": [],
   "source": [
    "url = 'https://www.beeradvocate.com/beer/'"
   ]
  },
  {
   "cell_type": "code",
   "execution_count": 3,
   "metadata": {},
   "outputs": [],
   "source": [
    "response = requests.get(url)"
   ]
  },
  {
   "cell_type": "code",
   "execution_count": 4,
   "metadata": {},
   "outputs": [
    {
     "data": {
      "text/plain": [
       "<Response [200]>"
      ]
     },
     "execution_count": 4,
     "metadata": {},
     "output_type": "execute_result"
    }
   ],
   "source": [
    "response"
   ]
  },
  {
   "cell_type": "code",
   "execution_count": 5,
   "metadata": {},
   "outputs": [],
   "source": [
    "soup = BeautifulSoup(response.text, 'html.parser')"
   ]
  },
  {
   "cell_type": "code",
   "execution_count": 7,
   "metadata": {},
   "outputs": [
    {
     "data": {
      "text/plain": [
       "'Bush League Sour Ale'"
      ]
     },
     "execution_count": 7,
     "metadata": {},
     "output_type": "execute_result"
    }
   ],
   "source": [
    "soup.find('h6').text"
   ]
  },
  {
   "cell_type": "code",
   "execution_count": 9,
   "metadata": {},
   "outputs": [
    {
     "data": {
      "text/plain": [
       "['Bush League Sour Ale',\n",
       " 'Anna',\n",
       " 'Tart Plum Saison',\n",
       " 'Cherry Jane',\n",
       " 'Hatchery Series Release #3 Black Lager',\n",
       " 'Weltenburger Kloster Barock Dunkel',\n",
       " 'Piña Colada Milkshake',\n",
       " 'Shake-O-Matic - Strawberry',\n",
       " '50 Carats - Mixed Berry',\n",
       " 'Raspberry Truffale',\n",
       " '2190',\n",
       " 'MoMo',\n",
       " 'Wytchmaker Farmhouse Rye IPA',\n",
       " \"'Bout Damn Time\",\n",
       " 'Untitled Art / Central State - Pudding Stout',\n",
       " 'Dark Cellar Blend 6th Anniversary Ale',\n",
       " 'Morning Bell',\n",
       " 'Premium Beer',\n",
       " 'Super Ripe',\n",
       " 'Indian Brown Ale',\n",
       " 'Second Reef',\n",
       " 'Little Sal',\n",
       " 'Pulp Friction',\n",
       " 'Bubble Farm IPA',\n",
       " 'Oktoberfest']"
      ]
     },
     "execution_count": 9,
     "metadata": {},
     "output_type": "execute_result"
    }
   ],
   "source": [
    "[i.text for i in soup.find_all('h6')]"
   ]
  },
  {
   "cell_type": "code",
   "execution_count": 11,
   "metadata": {},
   "outputs": [
    {
     "data": {
      "text/plain": [
       "[]"
      ]
     },
     "execution_count": 11,
     "metadata": {},
     "output_type": "execute_result"
    }
   ],
   "source": [
    "[i.text for i in soup.find_all('a', {'class': {'href': '/beer/profile'}})]"
   ]
  },
  {
   "cell_type": "code",
   "execution_count": 14,
   "metadata": {},
   "outputs": [],
   "source": [
    "for elem in soup(text = re.compile(r'/beer/profile/*')):\n",
    "    print(elem.text)"
   ]
  },
  {
   "cell_type": "code",
   "execution_count": 13,
   "metadata": {},
   "outputs": [],
   "source": [
    "import re"
   ]
  },
  {
   "cell_type": "code",
   "execution_count": 16,
   "metadata": {},
   "outputs": [],
   "source": [
    "soup.find('a',string='/beer/profile')"
   ]
  },
  {
   "cell_type": "code",
   "execution_count": 21,
   "metadata": {},
   "outputs": [],
   "source": [
    "for tag in soup.find_all(re.compile(\"beer*\")):\n",
    "    print(tag)"
   ]
  },
  {
   "cell_type": "code",
   "execution_count": 28,
   "metadata": {},
   "outputs": [
    {
     "data": {
      "text/plain": [
       "['',\n",
       " 'Bush League Sour Ale',\n",
       " '4th Meridian Brewing Co.',\n",
       " 'A moment ago',\n",
       " '',\n",
       " 'Anna',\n",
       " 'Hill Farmstead Brewery',\n",
       " '2 minutes ago',\n",
       " '',\n",
       " 'Tart Plum Saison',\n",
       " 'Orpheus Brewing',\n",
       " '3 minutes ago',\n",
       " '',\n",
       " 'Cherry Jane',\n",
       " 'Lagunitas Brewing Company',\n",
       " '4 minutes ago',\n",
       " '',\n",
       " 'Hatchery Series Release #3 Black Lager',\n",
       " 'SweetWater Brewing Company',\n",
       " '5 minutes ago',\n",
       " '',\n",
       " 'Weltenburger Kloster Barock Dunkel',\n",
       " 'Klosterbrauerei Weltenburg',\n",
       " '7 minutes ago',\n",
       " '',\n",
       " 'Piña Colada Milkshake',\n",
       " 'WeldWerks Brewing Co.',\n",
       " '9 minutes ago',\n",
       " '',\n",
       " 'Shake-O-Matic - Strawberry',\n",
       " 'Junkyard Brewing Company',\n",
       " '13 minutes ago',\n",
       " '',\n",
       " '50 Carats - Mixed Berry',\n",
       " 'Barrel Culture Brewing and Blending',\n",
       " '14 minutes ago',\n",
       " '',\n",
       " 'Raspberry Truffale',\n",
       " 'Avery Brewing Company',\n",
       " '18 minutes ago',\n",
       " '',\n",
       " '2190',\n",
       " 'Kane Brewing Company',\n",
       " '19 minutes ago',\n",
       " '',\n",
       " 'MoMo',\n",
       " 'Great Notion Brewing',\n",
       " '21 minutes ago',\n",
       " '',\n",
       " 'Wytchmaker Farmhouse Rye IPA',\n",
       " 'Jester King Brewery',\n",
       " '21 minutes ago',\n",
       " '',\n",
       " \"'Bout Damn Time\",\n",
       " '4 Noses Brewing Company',\n",
       " '23 minutes ago',\n",
       " '',\n",
       " 'Untitled Art / Central State - Pudding Stout',\n",
       " 'Untitled Art',\n",
       " '25 minutes ago',\n",
       " '',\n",
       " 'Dark Cellar Blend 6th Anniversary Ale',\n",
       " 'Rushing Duck Brewing Company',\n",
       " '25 minutes ago',\n",
       " '',\n",
       " 'Morning Bell',\n",
       " 'Kane Brewing Company',\n",
       " '26 minutes ago',\n",
       " '',\n",
       " 'Premium Beer',\n",
       " 'Bitburger Brauerei',\n",
       " '28 minutes ago',\n",
       " '',\n",
       " 'Super Ripe',\n",
       " 'Great Notion Brewing',\n",
       " '28 minutes ago',\n",
       " '',\n",
       " 'Indian Brown Ale',\n",
       " 'Dogfish Head Craft Brewery',\n",
       " '29 minutes ago',\n",
       " '',\n",
       " 'Second Reef',\n",
       " 'Kane Brewing Company',\n",
       " '33 minutes ago',\n",
       " '',\n",
       " 'Little Sal',\n",
       " 'Allagash Brewing Company',\n",
       " '33 minutes ago',\n",
       " '',\n",
       " 'Pulp Friction',\n",
       " 'RAR Brewing (Realerevival)',\n",
       " '34 minutes ago',\n",
       " '',\n",
       " 'Bubble Farm IPA',\n",
       " 'Clown Shoes',\n",
       " '34 minutes ago',\n",
       " '',\n",
       " 'Oktoberfest',\n",
       " 'Mazama Brewing Co.',\n",
       " '38 minutes ago',\n",
       " 'Sierra Nevada Oktoberfest - Weihenstephan Collaboration (2018)',\n",
       " 'Barrel Runner',\n",
       " '22nd Anniversary Anni-Matter Double IPA',\n",
       " 'Super Cluster',\n",
       " 'Hazy Little Thing IPA',\n",
       " 'Cherry Jane',\n",
       " '///Fear.Movie.Lions',\n",
       " 'Idolatrous IPA',\n",
       " 'Heady Topper',\n",
       " 'Luponic Distortion: Revolution No. 010',\n",
       " 'Two Hearted Ale',\n",
       " 'Julius',\n",
       " 'Sip Of Sunshine IPA',\n",
       " 'Dankwood',\n",
       " 'Lunch',\n",
       " 'Haze',\n",
       " 'Bourbon County Brand Vanilla Stout',\n",
       " 'Pseudo Sue',\n",
       " 'Drew Curtis / Wil Wheaton / Greg Koch - Stone Farking Wheaton w00tstout',\n",
       " 'Twisted Galaxy',\n",
       " 'Virtuoso',\n",
       " 'The Hemperor',\n",
       " 'Jai Alai IPA',\n",
       " 'Leo V. Ursus: Doublus',\n",
       " 'Permutation Series #58: Double IPA w/ Citra and Galaxy']"
      ]
     },
     "execution_count": 28,
     "metadata": {},
     "output_type": "execute_result"
    }
   ],
   "source": [
    "[i.text for i in soup.find_all(href = re.compile(\"/beer/profile/\"))]"
   ]
  },
  {
   "cell_type": "code",
   "execution_count": 36,
   "metadata": {},
   "outputs": [
    {
     "data": {
      "text/plain": [
       "<div id=\"rating_fullview_content_2\"><a href=\"/beer/profile/47607/366919/\"><img alt=\"Bush League Sour Ale\" border=\"0\" height=\"90\" src=\"https://cdn.beeradvocate.com/im/placeholder-beer.jpg\" style=\"float:right; margin:0px 0px 10px 10px;\" width=\"45\"/></a><h6><a href=\"/beer/profile/47607/366919/\">Bush League Sour Ale</a></h6><br><a href=\"/beer/profile/47607/\">4th Meridian Brewing Co.</a><br><a href=\"/beer/style/171/\">American Wild Ale</a> / 4.50% ABV<br><br><span class=\"BAscore_norm\">3.74</span><span class=\"rAvg_norm\">/5</span><span style=\"font-size:1.5em;font-weight:700;\"></span>  <span class=\"muted\">rDev 0%</span> | Score: 3.74<br><span class=\"muted\">look: 3.5 | smell: 3.75 | taste: 3.75 | feel: 3.75 |  overall: 3.75</span><br><br><div class=\"comment\">8oz glass at Beer Revolution YEG Oliver Square. No idea what kind of sour this is supposed to be.  More later.<br/>\n",
       "<br/>\n",
       "This beer appears a hazy, pale golden straw colour, with one solid finger of puffy, finely foamy, and mildly creamy off-white head, which leaves a few instances of randomly streaky lace around the glass as it quickly dissipates. <br/>\n",
       "<br/>\n",
       "It smells of grainy and crackery cereal malt, some mixed domestic citrus peel, a tame earthy yeastiness, and plain leafy, herbal, and floral green hop bitters. The taste is gritty and grainy pale malt, some muddled melon and citrus fruit bowl notes, faintly tart yeast, and more understated leafy, musty, and dead grassy hoppiness. <br/>\n",
       "<br/>\n",
       "The carbonation is fairly active in its palate-tickling frothiness, the body a so-so medium weight, and generally smooth, with nothing really getting uppity, as such, here.  It finishes trending dry, the lingering fruitiness exhibiting its sour tendencies. <br/>\n",
       "<br/>\n",
       "Overall - this sure is a refreshing and enjoyable version of the style, with the fruity character contributing in large part.  Nothing bush league about this offering, unless you are the kind of sour snob who insists on losing tooth enamel.</div><br><i class=\"fas fa-align-left\"></i> <span class=\"muted\">1,176 characters</span><br><br><div><span class=\"muted\"><a class=\"username\" href=\"/community/members/biboergosum.168458/\">biboergosum</a>, <a href=\"/beer/profile/47607/366919/?ba=biboergosum#review\">A moment ago</a></span></div></br></br></br></br></br></br></br></br></br></br></div>"
      ]
     },
     "execution_count": 36,
     "metadata": {},
     "output_type": "execute_result"
    }
   ],
   "source": [
    "soup.find('div', id=\"rating_fullview_content_2\")"
   ]
  },
  {
   "cell_type": "code",
   "execution_count": 38,
   "metadata": {},
   "outputs": [
    {
     "data": {
      "text/plain": [
       "25"
      ]
     },
     "execution_count": 38,
     "metadata": {},
     "output_type": "execute_result"
    }
   ],
   "source": [
    "len(soup.find_all('div', id=\"rating_fullview_content_2\"))"
   ]
  },
  {
   "cell_type": "code",
   "execution_count": null,
   "metadata": {},
   "outputs": [],
   "source": []
  }
 ],
 "metadata": {
  "kernelspec": {
   "display_name": "Python 3",
   "language": "python",
   "name": "python3"
  },
  "language_info": {
   "codemirror_mode": {
    "name": "ipython",
    "version": 3
   },
   "file_extension": ".py",
   "mimetype": "text/x-python",
   "name": "python",
   "nbconvert_exporter": "python",
   "pygments_lexer": "ipython3",
   "version": "3.6.6"
  }
 },
 "nbformat": 4,
 "nbformat_minor": 2
}
