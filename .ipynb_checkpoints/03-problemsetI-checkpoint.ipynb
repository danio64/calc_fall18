{
 "cells": [
  {
   "cell_type": "markdown",
   "metadata": {},
   "source": [
    "# Problem Set I"
   ]
  },
  {
   "cell_type": "code",
   "execution_count": 1,
   "metadata": {},
   "outputs": [
    {
     "data": {
      "text/html": [
       "<iframe width=\"560\" height=\"315\" src=\"https://www.youtube.com/embed/HktA7HH5NBc\" frameborder=\"0\" allow=\"autoplay; encrypted-media\" allowfullscreen></iframe>"
      ],
      "text/plain": [
       "<IPython.core.display.HTML object>"
      ]
     },
     "metadata": {},
     "output_type": "display_data"
    }
   ],
   "source": [
    "%%HTML\n",
    "<iframe width=\"560\" height=\"315\" src=\"https://www.youtube.com/embed/HktA7HH5NBc\" frameborder=\"0\" allow=\"autoplay; encrypted-media\" allowfullscreen></iframe>"
   ]
  },
  {
   "cell_type": "markdown",
   "metadata": {
    "slideshow": {
     "slide_type": "slide"
    }
   },
   "source": [
    "\n",
    "\n",
    "**Mathematical Goals**:\n",
    "\n",
    "- Solve problems related to areas \n",
    "- Solve area approximation problems using Riemann sums\n",
    "- Perform basic operations on numbers including root extraction\n",
    "- Use Pythagorean Theorem to find distances\n",
    "\n",
    "\n",
    "\n",
    "\n",
    "### Guidelines for writing Solutions \n",
    "\n",
    "Please be aware that your solutions are a letter of sorts, meant for a reader who is interested in your solutions to a problem that they have posed to you.  Clearly write a solution response that walks through your method and results.  Use multiple representations including **words**, **symbols**, **pictures**, and **tables**.\n",
    "\n",
    "\n",
    "**Suggested Reading**:\n",
    "\n",
    "- Chapter 1: *The Historical Development of Calculus*, C.H.Edwards\n",
    "- Chapter 1: *The Origins of Calculus*, David Perkins\n",
    "\n",
    "If you read these, I suggest that first, you simply relax and cruise through the reading one time; don't slow down when it gets technical.  Then, go back to the mathematical arguments and pay closer attention to the details of the argument after you understand the big picture of the concepts being introduced.  Here, we are primarily struggling with the notion of what is a number and how do we use these to represent areas of 2D regions."
   ]
  },
  {
   "cell_type": "markdown",
   "metadata": {
    "slideshow": {
     "slide_type": "slide"
    }
   },
   "source": [
    "### Problem I\n",
    "\n",
    "The Babylonians generally used $3r^2$ for the area of a circle of radius $r$, corresponding to the poor approximation $\\pi \\approx 3$.  Show that this approxiamation could have been obtained by averaging the areas of the iscribed and circumscribed squares shown below.\n",
    "\n",
    "![](images/p4.png)"
   ]
  },
  {
   "cell_type": "markdown",
   "metadata": {
    "slideshow": {
     "slide_type": "slide"
    }
   },
   "source": [
    "### Problem II\n",
    "\n",
    "Archimedes took a similar approach to approximating $\\pi$.  He began by inscribing and circumscribing a circle with regular hexagons, and successively doubled the sides in order to, calculuating their perimeters to find upper and lower bounds for $\\pi$.  Beginning with a circle of radius 1 and compute the perimeter for the following shapes:\n",
    "\n",
    "| Polygon | Area |\n",
    "| ------- | --------- |\n",
    "| Inscribed 6 sided |    |\n",
    "| Circumscribed 6 sided |    |\n",
    "| In 12 Sided   |      |\n",
    "| Circum 12 Sided  |     |"
   ]
  },
  {
   "cell_type": "markdown",
   "metadata": {
    "slideshow": {
     "slide_type": "slide"
    }
   },
   "source": [
    "### Problem III\n",
    "\n",
    "The Babylonians approached square root approximation in a similar iterative methodology like Archimedes use of the method of exhaustion.  To start, suppose we have a guess that we think is close to $\\sqrt{2}$\n",
    "\n",
    "$$x_1 \\approx \\sqrt{2} \\quad \\rightarrow \\quad x_1 \\times x_1 \\approx 2 \\quad \\rightarrow \\quad x_1 \\approx \\frac{2}{x_1}$$\n",
    "\n",
    "Either $x_1$ is a better guess or $\\frac{2}{x}$, but even better still would be the average of the two:\n",
    "\n",
    "$$x_2 = \\frac{1}{2} \\big(x_1 + \\frac{2}{x_1}\\big)$$\n",
    "\n",
    "If we continue in this manner we will get better and better approximations:\n",
    "\n",
    "$$x_3 = \\frac{1}{2} \\big(x_2 + \\frac{2}{x_2}\\big)$$\n",
    "\n",
    "$$x_4 = \\frac{1}{2} \\big(x_3 + \\frac{2}{x_3}\\big)$$\n",
    "\n",
    "$$x_5 = \\frac{1}{2} \\big(x_4 + \\frac{2}{x_4}\\big)$$\n",
    "\n",
    "$$\\vdots$$\n",
    "\n",
    "$$x_{n+1} = \\frac{1}{2} \\big(x_n + \\frac{2}{x_n}\\big)$$\n",
    "\n",
    "Follow the Babylonians method to approximate $\\sqrt{3}$ through $x_5$.  As a bonus, try a few different starting guesses and see how different they are by the fifth iteration.  "
   ]
  },
  {
   "cell_type": "markdown",
   "metadata": {
    "slideshow": {
     "slide_type": "slide"
    }
   },
   "source": [
    "### Problem IV\n",
    "\n",
    "Al - Khowarizimi also discussed an approach to solving quadratic equations such as $x^2 + 10x = 39$.  According to Edwards, his solution was\n",
    "\n",
    "- Take half the number of roots, that is, five, and multply this by itself to obtain twenty-five.  \n",
    "- Add this to the thiry-nine, giving sixty-four.  \n",
    "- Take the square root, or eight, and subtract from it half the number of roots (five).\n",
    "- The result, 3, is the required root.\n",
    "\n",
    "![](images/p5.png)\n",
    "\n",
    "Solve the equation $x^2 + 8x = 65$ following a similar construction to that above."
   ]
  },
  {
   "cell_type": "markdown",
   "metadata": {
    "slideshow": {
     "slide_type": "slide"
    }
   },
   "source": [
    "### Problem V\n",
    "\n",
    "The images below help to understand the value of expressions like:\n",
    "\n",
    "$$ 1 + 2 + 3 + 4 + ... + (n-1) + n = $$\n",
    "\n",
    "![](images/p6.png)\n",
    "\n",
    "1. Find the sum when $n = 5$\n",
    "2. Find the sum when $n = 10$\n",
    "3. Is there a way to use the image below to understand the sum when $n = 100$?\n",
    "![](images/p7.png)"
   ]
  },
  {
   "cell_type": "markdown",
   "metadata": {},
   "source": [
    "### Problem VI\n",
    "\n",
    "Approximate the area under the graph of $f(x) = x^2$, from $x = 1$ to $x = 5$ using the follow schemes (feel free to use the table to organize your thoughts):\n",
    "\n",
    "- 4 rectangles erected on the right endpoint of each subinterval\n",
    "\n",
    "| Rectangle # | left endpoint | right endpoint | width | height | area |         \n",
    "| ---------- | -------------- | -------------  | ------ | ------- | -------- |\n",
    "|         \n",
    "|\n",
    "|\n",
    "|\n",
    "\n",
    "\n",
    "- 8 rectangles erected on the right endpoint of each subinterval\n",
    "\n",
    "![](images/riemann_h1.png)"
   ]
  },
  {
   "cell_type": "code",
   "execution_count": null,
   "metadata": {},
   "outputs": [],
   "source": []
  },
  {
   "cell_type": "code",
   "execution_count": null,
   "metadata": {},
   "outputs": [],
   "source": []
  },
  {
   "cell_type": "code",
   "execution_count": null,
   "metadata": {},
   "outputs": [],
   "source": []
  },
  {
   "cell_type": "code",
   "execution_count": null,
   "metadata": {},
   "outputs": [],
   "source": []
  },
  {
   "cell_type": "code",
   "execution_count": null,
   "metadata": {},
   "outputs": [],
   "source": []
  },
  {
   "cell_type": "code",
   "execution_count": null,
   "metadata": {},
   "outputs": [],
   "source": []
  },
  {
   "cell_type": "code",
   "execution_count": null,
   "metadata": {},
   "outputs": [],
   "source": []
  },
  {
   "cell_type": "code",
   "execution_count": null,
   "metadata": {},
   "outputs": [],
   "source": []
  },
  {
   "cell_type": "code",
   "execution_count": null,
   "metadata": {},
   "outputs": [],
   "source": []
  },
  {
   "cell_type": "code",
   "execution_count": null,
   "metadata": {},
   "outputs": [],
   "source": []
  },
  {
   "cell_type": "code",
   "execution_count": null,
   "metadata": {},
   "outputs": [],
   "source": []
  },
  {
   "cell_type": "markdown",
   "metadata": {},
   "source": [
    "### Plot Code\n",
    "\n",
    "Here's how I made the plot."
   ]
  },
  {
   "cell_type": "code",
   "execution_count": 2,
   "metadata": {},
   "outputs": [],
   "source": [
    "%matplotlib inline\n",
    "import matplotlib.pyplot as plt\n",
    "import numpy as np"
   ]
  },
  {
   "cell_type": "code",
   "execution_count": 24,
   "metadata": {},
   "outputs": [
    {
     "data": {
      "image/png": "[encoded data removed]",
      "text/plain": [
       "<matplotlib.figure.Figure at 0x1076ea898>"
      ]
     },
     "metadata": {},
     "output_type": "display_data"
    }
   ],
   "source": [
    "x = np.linspace(0,5, 1000)\n",
    "y = x**2\n",
    "plt.figure(figsize = (9, 5))\n",
    "plt.plot(x, y, label = '$f(x) = x^2$')\n",
    "plt.fill_between(x, y, where=x>1, alpha = 0.3)\n",
    "plt.step([i for i in range(6)],[i**2 for i in range(6)] )\n",
    "plt.step([i for i in range(6)],[i**2 for i in range(6)], where = 'post')\n",
    "plt.legend(frameon = False)\n",
    "plt.title('Two Possible Approaches', loc = 'left')\n",
    "plt.savefig('images/riemann_h1.png')"
   ]
  },
  {
   "cell_type": "code",
   "execution_count": null,
   "metadata": {},
   "outputs": [],
   "source": []
  }
 ],
 "metadata": {
  "kernelspec": {
   "display_name": "Python 3",
   "language": "python",
   "name": "python3"
  },
  "language_info": {
   "codemirror_mode": {
    "name": "ipython",
    "version": 3
   },
   "file_extension": ".py",
   "mimetype": "text/x-python",
   "name": "python",
   "nbconvert_exporter": "python",
   "pygments_lexer": "ipython3",
   "version": "3.6.6"
  }
 },
 "nbformat": 4,
 "nbformat_minor": 2
}
