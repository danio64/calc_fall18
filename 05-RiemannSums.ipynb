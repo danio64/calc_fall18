{
 "cells": [
  {
   "cell_type": "markdown",
   "metadata": {},
   "source": [
    "# Riemann Sums\n",
    "\n",
    "\n",
    "**GOALS**: \n",
    "\n",
    "- Use Python to carry our repetitive operations\n",
    "- Compute Square Roots in Python\n",
    "- Plot Functions with Python\n",
    "- Compute area approximations with Python \n",
    "- Use Python to Compute exact areas\n"
   ]
  },
  {
   "cell_type": "markdown",
   "metadata": {},
   "source": [
    "## Square Roots with Python\n",
    "\n",
    "Recall our earlier work with approximating square roots, where we had the following algorithm driving our approximations:\n",
    "\n",
    "$$x_1 \\approx \\sqrt{2} \\quad \\rightarrow \\quad x_1 \\times x_1 \\approx 2 \\quad \\rightarrow \\quad x_1 \\approx \\frac{2}{x_1}$$\n",
    "\n",
    "Either $x_1$ is a better guess or $\\frac{2}{x}$, but even better still would be the average of the two:\n",
    "\n",
    "$$x_2 = \\frac{1}{2} \\big(x_1 + \\frac{2}{x_1}\\big)$$\n",
    "\n",
    "If we continue in this manner we will get better and better approximations:\n",
    "\n",
    "$$x_3 = \\frac{1}{2} \\big(x_2 + \\frac{2}{x_2}\\big)$$\n",
    "\n",
    "$$x_4 = \\frac{1}{2} \\big(x_3 + \\frac{2}{x_3}\\big)$$\n",
    "\n",
    "$$x_5 = \\frac{1}{2} \\big(x_4 + \\frac{2}{x_4}\\big)$$\n",
    "\n",
    "$$\\vdots$$\n",
    "\n",
    "$$x_{n+1} = \\frac{1}{2} \\big(x_n + \\frac{2}{x_n}\\big)$$\n"
   ]
  },
  {
   "cell_type": "markdown",
   "metadata": {},
   "source": [
    "In Python, we will start by understanding variables and lists.  Next, we will use a loop to automate the recursive calculations.  To begin, we will be using some libraries that other people who are nice have written for us.  To use them, we need to load them, which we do below."
   ]
  },
  {
   "cell_type": "code",
   "execution_count": 1,
   "metadata": {},
   "outputs": [],
   "source": [
    "%matplotlib inline\n",
    "import matplotlib.pyplot as plt\n",
    "import numpy as np\n",
    "import pandas as pd"
   ]
  },
  {
   "cell_type": "markdown",
   "metadata": {},
   "source": [
    "### Arithmetic and Variables"
   ]
  },
  {
   "cell_type": "code",
   "execution_count": 2,
   "metadata": {},
   "outputs": [
    {
     "data": {
      "text/plain": [
       "-76.5"
      ]
     },
     "execution_count": 2,
     "metadata": {},
     "output_type": "execute_result"
    }
   ],
   "source": [
    "#add multiply, divide, subtract, exponents\n",
    "6 + 5 * 7 /2 - 10**2"
   ]
  },
  {
   "cell_type": "code",
   "execution_count": 3,
   "metadata": {},
   "outputs": [],
   "source": [
    "#assign 6 to variable a\n",
    "a = 6"
   ]
  },
  {
   "cell_type": "code",
   "execution_count": 4,
   "metadata": {},
   "outputs": [
    {
     "data": {
      "text/plain": [
       "6"
      ]
     },
     "execution_count": 4,
     "metadata": {},
     "output_type": "execute_result"
    }
   ],
   "source": [
    "#see what a equals\n",
    "a"
   ]
  },
  {
   "cell_type": "code",
   "execution_count": 5,
   "metadata": {},
   "outputs": [
    {
     "data": {
      "text/plain": [
       "11"
      ]
     },
     "execution_count": 5,
     "metadata": {},
     "output_type": "execute_result"
    }
   ],
   "source": [
    "#arithmetic on a\n",
    "a + 5"
   ]
  },
  {
   "cell_type": "code",
   "execution_count": 6,
   "metadata": {},
   "outputs": [],
   "source": [
    "#update value of a\n",
    "a = 18"
   ]
  },
  {
   "cell_type": "code",
   "execution_count": 7,
   "metadata": {},
   "outputs": [
    {
     "data": {
      "text/plain": [
       "18"
      ]
     },
     "execution_count": 7,
     "metadata": {},
     "output_type": "execute_result"
    }
   ],
   "source": [
    "#check new value\n",
    "a"
   ]
  },
  {
   "cell_type": "markdown",
   "metadata": {},
   "source": [
    "### Lists\n",
    "\n",
    "A list is a collection of items that also have a position.  We can save a list as a variable, and access individual memebers or collections of members.  For example, if we have a list\n",
    "\n",
    "```python\n",
    "l = [1, 4, 6, 3, 1]\n",
    "```\n",
    "\n",
    "We can access the entire list as `l` or individual elements with the `l[element]` syntax.  Python starts counting at zero, so the first element in the list is `l[0]`."
   ]
  },
  {
   "cell_type": "code",
   "execution_count": 8,
   "metadata": {},
   "outputs": [],
   "source": [
    "l = [1, 4, 6, 3, 1]"
   ]
  },
  {
   "cell_type": "code",
   "execution_count": 9,
   "metadata": {},
   "outputs": [
    {
     "data": {
      "text/plain": [
       "[1, 4, 6, 3, 1]"
      ]
     },
     "execution_count": 9,
     "metadata": {},
     "output_type": "execute_result"
    }
   ],
   "source": [
    "l"
   ]
  },
  {
   "cell_type": "code",
   "execution_count": 10,
   "metadata": {},
   "outputs": [
    {
     "data": {
      "text/plain": [
       "1"
      ]
     },
     "execution_count": 10,
     "metadata": {},
     "output_type": "execute_result"
    }
   ],
   "source": [
    "l[0]"
   ]
  },
  {
   "cell_type": "code",
   "execution_count": 11,
   "metadata": {},
   "outputs": [
    {
     "data": {
      "text/plain": [
       "1"
      ]
     },
     "execution_count": 11,
     "metadata": {},
     "output_type": "execute_result"
    }
   ],
   "source": [
    "l[4]"
   ]
  },
  {
   "cell_type": "code",
   "execution_count": 12,
   "metadata": {},
   "outputs": [
    {
     "data": {
      "text/plain": [
       "[1, 4, 6, 3]"
      ]
     },
     "execution_count": 12,
     "metadata": {},
     "output_type": "execute_result"
    }
   ],
   "source": [
    "l[:4]"
   ]
  },
  {
   "cell_type": "markdown",
   "metadata": {},
   "source": [
    "### Loops\n",
    "\n",
    "If we wanted to examine each object of the list above, we can use the idea of a loop.  A loop will literally loop through each value of the list and perform some kind of operation that we specify.  A basic example would be printing each value of the list.  A more complex is doing some arithmetic on the values."
   ]
  },
  {
   "cell_type": "code",
   "execution_count": 13,
   "metadata": {},
   "outputs": [
    {
     "name": "stdout",
     "output_type": "stream",
     "text": [
      "1\n",
      "4\n",
      "6\n",
      "3\n",
      "1\n"
     ]
    }
   ],
   "source": [
    "for element in l:\n",
    "    print(element)"
   ]
  },
  {
   "cell_type": "code",
   "execution_count": 14,
   "metadata": {},
   "outputs": [
    {
     "name": "stdout",
     "output_type": "stream",
     "text": [
      "4\n",
      "16\n",
      "24\n",
      "12\n",
      "4\n"
     ]
    }
   ],
   "source": [
    "for element in l:\n",
    "    print(element * 5 - element)"
   ]
  },
  {
   "cell_type": "markdown",
   "metadata": {},
   "source": [
    "### PROBLEMS\n",
    "\n",
    "1. Make a list called `ints` that contains $1, 2, 3, 4, 5, 6, 7, 8, 9, 10$.\n",
    "\n",
    "2. Loop through this list and print each element.\n",
    "\n",
    "3. Loop through this list and print the first ten odd numbers. ($2i - 1$)"
   ]
  },
  {
   "cell_type": "code",
   "execution_count": null,
   "metadata": {},
   "outputs": [],
   "source": []
  },
  {
   "cell_type": "code",
   "execution_count": null,
   "metadata": {},
   "outputs": [],
   "source": []
  },
  {
   "cell_type": "code",
   "execution_count": null,
   "metadata": {},
   "outputs": [],
   "source": []
  },
  {
   "cell_type": "code",
   "execution_count": null,
   "metadata": {},
   "outputs": [],
   "source": []
  },
  {
   "cell_type": "code",
   "execution_count": null,
   "metadata": {},
   "outputs": [],
   "source": []
  },
  {
   "cell_type": "code",
   "execution_count": null,
   "metadata": {},
   "outputs": [],
   "source": []
  },
  {
   "cell_type": "markdown",
   "metadata": {},
   "source": [
    "### The Square Root\n",
    "\n",
    "Now, we are ready to complete the square root problem.  Here, we need one additional piece.  Rather than starting with a list of values, we will start with our initial guess and append values to a list that are a result of the $x_{n+1}$ term in our algorithm."
   ]
  },
  {
   "cell_type": "code",
   "execution_count": 15,
   "metadata": {},
   "outputs": [],
   "source": [
    "#initial guess\n",
    "x = [1.5]"
   ]
  },
  {
   "cell_type": "code",
   "execution_count": 16,
   "metadata": {},
   "outputs": [],
   "source": [
    "#next value\n",
    "nxt = 1/2*(x[0] + 2/x[0])"
   ]
  },
  {
   "cell_type": "code",
   "execution_count": 17,
   "metadata": {},
   "outputs": [],
   "source": [
    "#append the new variable nxt\n",
    "#to our list x\n",
    "x.append(nxt)"
   ]
  },
  {
   "cell_type": "code",
   "execution_count": 18,
   "metadata": {},
   "outputs": [
    {
     "data": {
      "text/plain": [
       "[1.5, 1.4166666666666665]"
      ]
     },
     "execution_count": 18,
     "metadata": {},
     "output_type": "execute_result"
    }
   ],
   "source": [
    "x"
   ]
  },
  {
   "cell_type": "code",
   "execution_count": 19,
   "metadata": {},
   "outputs": [],
   "source": [
    "x = [1.5]\n",
    "for num in range(10):\n",
    "    nxt = 1/2 * (x[num] + 2/x[num])\n",
    "    x.append(nxt)"
   ]
  },
  {
   "cell_type": "code",
   "execution_count": 20,
   "metadata": {},
   "outputs": [
    {
     "data": {
      "text/plain": [
       "[1.5,\n",
       " 1.4166666666666665,\n",
       " 1.4142156862745097,\n",
       " 1.4142135623746899,\n",
       " 1.414213562373095,\n",
       " 1.414213562373095,\n",
       " 1.414213562373095,\n",
       " 1.414213562373095,\n",
       " 1.414213562373095,\n",
       " 1.414213562373095,\n",
       " 1.414213562373095]"
      ]
     },
     "execution_count": 20,
     "metadata": {},
     "output_type": "execute_result"
    }
   ],
   "source": [
    "x"
   ]
  },
  {
   "cell_type": "markdown",
   "metadata": {},
   "source": [
    "## Plotting\n",
    "\n",
    "To draw a plot, we will use the `matplotlib` library.  Earlier, we imported this library and abbreviated it as `plt`.  This simply means that whenever we want to use a plotting function, we will have to write `plt.` followed by a plotting method.  To start, we can draw a plot of our list with `plt.plot(x)`.  Arguments can be accessed by typing `shift + tab` after writing the functions.  For example, to find the arguments and help for the `plt.plot` method, we can use the `shift + tab` approach or in a Jupyter notebook if we write `plt.plot?` and execute, we will see the help for the function."
   ]
  },
  {
   "cell_type": "code",
   "execution_count": 21,
   "metadata": {},
   "outputs": [
    {
     "data": {
      "text/plain": [
       "[<matplotlib.lines.Line2D at 0x1124d74a8>]"
      ]
     },
     "execution_count": 21,
     "metadata": {},
     "output_type": "execute_result"
    },
    {
     "data": {
      "image/png": "[encoded data removed]",
      "text/plain": [
       "<matplotlib.figure.Figure at 0x1123e6710>"
      ]
     },
     "metadata": {},
     "output_type": "display_data"
    }
   ],
   "source": [
    "#basic plot of our approximations\n",
    "plt.plot(x)"
   ]
  },
  {
   "cell_type": "code",
   "execution_count": 22,
   "metadata": {},
   "outputs": [
    {
     "data": {
      "text/plain": [
       "[<matplotlib.lines.Line2D at 0x1125c1320>]"
      ]
     },
     "execution_count": 22,
     "metadata": {},
     "output_type": "execute_result"
    },
    {
     "data": {
      "image/png": "[encoded data removed]",
      "text/plain": [
       "<matplotlib.figure.Figure at 0x112499940>"
      ]
     },
     "metadata": {},
     "output_type": "display_data"
    }
   ],
   "source": [
    "#changing the line style\n",
    "plt.plot(x, '--o')"
   ]
  },
  {
   "cell_type": "code",
   "execution_count": 23,
   "metadata": {},
   "outputs": [
    {
     "data": {
      "image/png": "[encoded data removed]",
      "text/plain": [
       "<matplotlib.figure.Figure at 0x112499978>"
      ]
     },
     "metadata": {},
     "output_type": "display_data"
    }
   ],
   "source": [
    "#Customizing the figure size, line, adding a legend, and a title\n",
    "plt.figure(figsize = (9, 5))\n",
    "plt.plot(x, '--o', color = 'red', label = 'approximations', alpha = 0.4)\n",
    "plt.legend(loc = 'best', frameon = False)\n",
    "plt.title(\"My Approximations\", loc = 'left');"
   ]
  },
  {
   "cell_type": "markdown",
   "metadata": {},
   "source": [
    "### PROBLEM\n",
    "\n",
    "1. Alter the problems above to find the square root of three, and plot the first five approximations."
   ]
  },
  {
   "cell_type": "code",
   "execution_count": null,
   "metadata": {},
   "outputs": [],
   "source": []
  },
  {
   "cell_type": "code",
   "execution_count": null,
   "metadata": {},
   "outputs": [],
   "source": []
  },
  {
   "cell_type": "code",
   "execution_count": null,
   "metadata": {},
   "outputs": [],
   "source": []
  },
  {
   "cell_type": "code",
   "execution_count": null,
   "metadata": {},
   "outputs": [],
   "source": []
  },
  {
   "cell_type": "code",
   "execution_count": null,
   "metadata": {},
   "outputs": [],
   "source": []
  },
  {
   "cell_type": "markdown",
   "metadata": {},
   "source": [
    "## Functions\n",
    "\n",
    "We can easily define functions in Python.  For example, the familiar function $f(x) = x^2$ would be written as follows in Python.\n",
    "\n",
    "```python\n",
    "def f(x):\n",
    "    return x**2\n",
    "```\n",
    "\n",
    "Here, we are naming our function and its input with the `def f(x)` piece.  Next, we define the fate of the input values to our functions with the `x**2`.  Now, our function is like a variable that takes an input.  If we write `f(2)` we would get `4`."
   ]
  },
  {
   "cell_type": "code",
   "execution_count": 24,
   "metadata": {},
   "outputs": [],
   "source": [
    "#define our function\n",
    "def f(x):\n",
    "    return x**2"
   ]
  },
  {
   "cell_type": "code",
   "execution_count": 25,
   "metadata": {},
   "outputs": [
    {
     "data": {
      "text/plain": [
       "4"
      ]
     },
     "execution_count": 25,
     "metadata": {},
     "output_type": "execute_result"
    }
   ],
   "source": [
    "#evaluate the function at 2\n",
    "f(2)"
   ]
  },
  {
   "cell_type": "code",
   "execution_count": 26,
   "metadata": {},
   "outputs": [
    {
     "data": {
      "text/plain": [
       "16"
      ]
     },
     "execution_count": 26,
     "metadata": {},
     "output_type": "execute_result"
    }
   ],
   "source": [
    "#evaluate at a different value, -4\n",
    "f(-4)"
   ]
  },
  {
   "cell_type": "code",
   "execution_count": 27,
   "metadata": {},
   "outputs": [
    {
     "data": {
      "text/plain": [
       "[4, 1, 0, 1, 4]"
      ]
     },
     "execution_count": 27,
     "metadata": {},
     "output_type": "execute_result"
    }
   ],
   "source": [
    "#find multiple values\n",
    "[f(i) for i in [-2, -1, 0, 1, 2]]"
   ]
  },
  {
   "cell_type": "code",
   "execution_count": 28,
   "metadata": {},
   "outputs": [
    {
     "data": {
      "text/plain": [
       "[<matplotlib.lines.Line2D at 0x1126f1f98>]"
      ]
     },
     "execution_count": 28,
     "metadata": {},
     "output_type": "execute_result"
    },
    {
     "data": {
      "image/png": "[encoded data removed]",
      "text/plain": [
       "<matplotlib.figure.Figure at 0x112608c50>"
      ]
     },
     "metadata": {},
     "output_type": "display_data"
    }
   ],
   "source": [
    "#plot the list\n",
    "plt.plot([f(i) for i in [-2, -1, 0, 1, 2]])"
   ]
  },
  {
   "cell_type": "code",
   "execution_count": 29,
   "metadata": {},
   "outputs": [
    {
     "data": {
      "text/plain": [
       "array([0. , 0.5, 1. ])"
      ]
     },
     "execution_count": 29,
     "metadata": {},
     "output_type": "execute_result"
    }
   ],
   "source": [
    "#numpy help!\n",
    "np.linspace(0, 1, 3)"
   ]
  },
  {
   "cell_type": "code",
   "execution_count": 30,
   "metadata": {},
   "outputs": [
    {
     "data": {
      "text/plain": [
       "[<matplotlib.lines.Line2D at 0x112869710>]"
      ]
     },
     "execution_count": 30,
     "metadata": {},
     "output_type": "execute_result"
    },
    {
     "data": {
      "image/png": "[encoded data removed]",
      "text/plain": [
       "<matplotlib.figure.Figure at 0x1127031d0>"
      ]
     },
     "metadata": {},
     "output_type": "display_data"
    }
   ],
   "source": [
    "#smoothing things out\n",
    "x = np.linspace(-2, 2, 1000)\n",
    "plt.plot(x, f(x))"
   ]
  },
  {
   "cell_type": "markdown",
   "metadata": {},
   "source": [
    "###"
   ]
  },
  {
   "cell_type": "code",
   "execution_count": 31,
   "metadata": {},
   "outputs": [],
   "source": [
    "from ipywidgets import interact\n",
    "import ipywidgets"
   ]
  },
  {
   "cell_type": "code",
   "execution_count": 32,
   "metadata": {},
   "outputs": [
    {
     "data": {
      "application/vnd.jupyter.widget-view+json": {
       "model_id": "697aa66986a242e3b43230e65423349b",
       "version_major": 2,
       "version_minor": 0
      },
      "text/html": [
       "<p>Failed to display Jupyter Widget of type <code>interactive</code>.</p>\n",
       "<p>\n",
       "  If you're reading this message in the Jupyter Notebook or JupyterLab Notebook, it may mean\n",
       "  that the widgets JavaScript is still loading. If this message persists, it\n",
       "  likely means that the widgets JavaScript library is either not installed or\n",
       "  not enabled. See the <a href=\"https://ipywidgets.readthedocs.io/en/stable/user_install.html\">Jupyter\n",
       "  Widgets Documentation</a> for setup instructions.\n",
       "</p>\n",
       "<p>\n",
       "  If you're reading this message in another frontend (for example, a static\n",
       "  rendering on GitHub or <a href=\"https://nbviewer.jupyter.org/\">NBViewer</a>),\n",
       "  it may mean that your frontend doesn't currently support widgets.\n",
       "</p>\n"
      ],
      "text/plain": [
       "interactive(children=(IntSlider(value=10, description='x', max=30, min=-10), Output()), _dom_classes=('widget-interact',))"
      ]
     },
     "metadata": {},
     "output_type": "display_data"
    }
   ],
   "source": [
    "interact(f, x=10);"
   ]
  },
  {
   "cell_type": "code",
   "execution_count": 44,
   "metadata": {},
   "outputs": [],
   "source": [
    "def fun_plot(x): \n",
    "    y = -x**2 - 1\n",
    "    a = np.linspace(-5, 5, 1000)\n",
    "    plot = plt.plot(a, f(a), x, f(x), 'o')\n",
    "    return plot  "
   ]
  },
  {
   "cell_type": "code",
   "execution_count": 43,
   "metadata": {},
   "outputs": [
    {
     "data": {
      "application/vnd.jupyter.widget-view+json": {
       "model_id": "f9b0b7872975455abffc3a40f1fddf6e",
       "version_major": 2,
       "version_minor": 0
      },
      "text/html": [
       "<p>Failed to display Jupyter Widget of type <code>interactive</code>.</p>\n",
       "<p>\n",
       "  If you're reading this message in the Jupyter Notebook or JupyterLab Notebook, it may mean\n",
       "  that the widgets JavaScript is still loading. If this message persists, it\n",
       "  likely means that the widgets JavaScript library is either not installed or\n",
       "  not enabled. See the <a href=\"https://ipywidgets.readthedocs.io/en/stable/user_install.html\">Jupyter\n",
       "  Widgets Documentation</a> for setup instructions.\n",
       "</p>\n",
       "<p>\n",
       "  If you're reading this message in another frontend (for example, a static\n",
       "  rendering on GitHub or <a href=\"https://nbviewer.jupyter.org/\">NBViewer</a>),\n",
       "  it may mean that your frontend doesn't currently support widgets.\n",
       "</p>\n"
      ],
      "text/plain": [
       "interactive(children=(IntSlider(value=0, description='x', max=5, min=-5), Output()), _dom_classes=('widget-interact',))"
      ]
     },
     "metadata": {},
     "output_type": "display_data"
    },
    {
     "data": {
      "text/plain": [
       "<function __main__.fun_plot>"
      ]
     },
     "execution_count": 43,
     "metadata": {},
     "output_type": "execute_result"
    }
   ],
   "source": [
    "interact(fun_plot, x = (-5, 5, 1))"
   ]
  },
  {
   "cell_type": "code",
   "execution_count": null,
   "metadata": {},
   "outputs": [],
   "source": []
  },
  {
   "cell_type": "code",
   "execution_count": null,
   "metadata": {},
   "outputs": [],
   "source": []
  },
  {
   "cell_type": "code",
   "execution_count": 33,
   "metadata": {},
   "outputs": [],
   "source": [
    "def f(x): \n",
    "    return -x**2 + 1"
   ]
  },
  {
   "cell_type": "code",
   "execution_count": 34,
   "metadata": {},
   "outputs": [],
   "source": [
    "x = np.linspace(-1,1,100)"
   ]
  },
  {
   "cell_type": "code",
   "execution_count": 35,
   "metadata": {},
   "outputs": [
    {
     "name": "stdout",
     "output_type": "stream",
     "text": [
      "Here, we could use four rectangles, built on the right endpoint of four equally spaced rectangular pieces.\n"
     ]
    },
    {
     "data": {
      "image/png": "[encoded data removed]",
      "text/plain": [
       "<matplotlib.figure.Figure at 0x112877278>"
      ]
     },
     "metadata": {},
     "output_type": "display_data"
    }
   ],
   "source": [
    "plt.plot(x, f(x))\n",
    "plt.axhline(color = 'black')\n",
    "w = [-1, -0.5, 0, 0.5, 1.0]\n",
    "plt.step(w, [f(i) for i in w], where = 'post')\n",
    "plt.xticks(w)\n",
    "plt.yticks([f(i) for i in w])\n",
    "print(\"Here, we could use four rectangles, built on the right endpoint of four equally spaced rectangular pieces.\")"
   ]
  },
  {
   "cell_type": "code",
   "execution_count": null,
   "metadata": {},
   "outputs": [],
   "source": []
  },
  {
   "cell_type": "markdown",
   "metadata": {},
   "source": [
    "### Problem I\n",
    "\n",
    "The figure above shows the graph of a function $f$ on the interval $[a,b]$.  We want to write an expression for the sum of the areas of the four rectangles that will depend only on the function $f$ and the interval endpoints $a$ and $b$.  \n",
    "\n",
    "a. The four subintervals that form the bases of the rectangles along the $x$-axis all have the same length; express it in terms of $a$ and $b$.  \n",
    "\n",
    "b. How many subinterval lengths is $x_2$ away from $a = x_0$?\n",
    "\n",
    "c. Write expressions for $x_1, x_2, x_3$, and $x_4$ in terms of $a$ and $b$.  \n",
    "\n",
    "d. What are the heights of the four rectangles?\n",
    "\n",
    "e. Multiply the heights by the lengths, add the four terms, and call the sum $R(4)$\n",
    "\n",
    "f. Generalize your work to obtain an expression for any number of rectangles $n$ .  \n",
    "\n",
    "g. Write your expression using summation notation."
   ]
  },
  {
   "cell_type": "markdown",
   "metadata": {},
   "source": [
    "### Problem II\n",
    "\n",
    "a. Consider the function $f(x) = 3x$ on the interval $[1,5]$.  Apply your formula above to find $R(4)$.\n",
    "\n",
    "b. Sketch a graph of $f$.  Use geometry to find the exact area."
   ]
  },
  {
   "cell_type": "markdown",
   "metadata": {},
   "source": [
    "### Problem III\n",
    "\n",
    "a. Consider the function $f(x) = \\frac{1}{\\sqrt{x}}$ on the interval $[0.1, 10]$.  Plot the function, and use our methods from above to approximate the area under the curve using 4 rectangles."
   ]
  },
  {
   "cell_type": "markdown",
   "metadata": {},
   "source": [
    "### Problem IV\n",
    "\n",
    "a. Consider the function $f(x) = 4-x^2$ on the interval $[-2,2]$.  Plot the curve and approximate the area using 8 rectangles.  \n",
    "\n",
    "b. Consider $f(x) = 3x$ on $[-4,2]$ with 12 rectangles.\n",
    "\n",
    "c. Consider $f(x) = 3x^2 - 2x - 14$ on $[2,3]$ with 4 rectangles.  "
   ]
  }
 ],
 "metadata": {
  "kernelspec": {
   "display_name": "Python 3",
   "language": "python",
   "name": "python3"
  },
  "language_info": {
   "codemirror_mode": {
    "name": "ipython",
    "version": 3
   },
   "file_extension": ".py",
   "mimetype": "text/x-python",
   "name": "python",
   "nbconvert_exporter": "python",
   "pygments_lexer": "ipython3",
   "version": "3.6.6"
  }
 },
 "nbformat": 4,
 "nbformat_minor": 2
}
