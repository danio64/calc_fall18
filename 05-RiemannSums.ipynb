{
 "cells": [
  {
   "cell_type": "markdown",
   "metadata": {},
   "source": [
    "# Riemann Sums\n",
    "\n",
    "\n",
    "**GOALS**: \n",
    "\n",
    "- Use Python to carry our repetitive operations\n",
    "- Compute Square Roots in Python\n",
    "- Plot Functions with Python\n",
    "- Compute area approximations with Python \n",
    "- Use Python to Compute exact areas\n"
   ]
  },
  {
   "cell_type": "markdown",
   "metadata": {},
   "source": [
    "## Square Roots with Python\n",
    "\n",
    "Recall our earlier work with approximating square roots, where we had the following algorithm driving our approximations:\n",
    "\n",
    "$$x_1 \\approx \\sqrt{2} \\quad \\rightarrow \\quad x_1 \\times x_1 \\approx 2 \\quad \\rightarrow \\quad x_1 \\approx \\frac{2}{x_1}$$\n",
    "\n",
    "Either $x_1$ is a better guess or $\\frac{2}{x}$, but even better still would be the average of the two:\n",
    "\n",
    "$$x_2 = \\frac{1}{2} \\big(x_1 + \\frac{2}{x_1}\\big)$$\n",
    "\n",
    "If we continue in this manner we will get better and better approximations:\n",
    "\n",
    "$$x_3 = \\frac{1}{2} \\big(x_2 + \\frac{2}{x_2}\\big)$$\n",
    "\n",
    "$$x_4 = \\frac{1}{2} \\big(x_3 + \\frac{2}{x_3}\\big)$$\n",
    "\n",
    "$$x_5 = \\frac{1}{2} \\big(x_4 + \\frac{2}{x_4}\\big)$$\n",
    "\n",
    "$$\\vdots$$\n",
    "\n",
    "$$x_{n+1} = \\frac{1}{2} \\big(x_n + \\frac{2}{x_n}\\big)$$\n"
   ]
  },
  {
   "cell_type": "markdown",
   "metadata": {},
   "source": [
    "In Python, we will start by understanding variables and lists.  Next, we will use a loop to automate the recursive calculations.  To begin, we will be using some libraries that other people who are nice have written for us.  To use them, we need to load them, which we do below."
   ]
  },
  {
   "cell_type": "code",
   "execution_count": 1,
   "metadata": {},
   "outputs": [],
   "source": [
    "%matplotlib inline\n",
    "import matplotlib.pyplot as plt\n",
    "import numpy as np\n",
    "import pandas as pd"
   ]
  },
  {
   "cell_type": "markdown",
   "metadata": {},
   "source": [
    "### Arithmetic and Variables"
   ]
  },
  {
   "cell_type": "code",
   "execution_count": 2,
   "metadata": {},
   "outputs": [
    {
     "data": {
      "text/plain": [
       "-76.5"
      ]
     },
     "execution_count": 2,
     "metadata": {},
     "output_type": "execute_result"
    }
   ],
   "source": [
    "#add multiply, divide, subtract, exponents\n",
    "#remember exponents are **\n",
    "6 + 5 * 7 /2 - 10**2"
   ]
  },
  {
   "cell_type": "code",
   "execution_count": 4,
   "metadata": {},
   "outputs": [
    {
     "data": {
      "text/plain": [
       "-79.5"
      ]
     },
     "execution_count": 4,
     "metadata": {},
     "output_type": "execute_result"
    }
   ],
   "source": [
    "(6 + 5 * 7) /2 - 10**2"
   ]
  },
  {
   "cell_type": "code",
   "execution_count": 5,
   "metadata": {},
   "outputs": [],
   "source": [
    "#assign 6 to variable a\n",
    "a = 6"
   ]
  },
  {
   "cell_type": "code",
   "execution_count": 6,
   "metadata": {},
   "outputs": [
    {
     "data": {
      "text/plain": [
       "6"
      ]
     },
     "execution_count": 6,
     "metadata": {},
     "output_type": "execute_result"
    }
   ],
   "source": [
    "#see what a equals\n",
    "a"
   ]
  },
  {
   "cell_type": "code",
   "execution_count": 7,
   "metadata": {},
   "outputs": [
    {
     "data": {
      "text/plain": [
       "11"
      ]
     },
     "execution_count": 7,
     "metadata": {},
     "output_type": "execute_result"
    }
   ],
   "source": [
    "#arithmetic on a\n",
    "a + 5"
   ]
  },
  {
   "cell_type": "code",
   "execution_count": 8,
   "metadata": {},
   "outputs": [],
   "source": [
    "#update value of a\n",
    "a = 18"
   ]
  },
  {
   "cell_type": "code",
   "execution_count": 9,
   "metadata": {},
   "outputs": [
    {
     "data": {
      "text/plain": [
       "18"
      ]
     },
     "execution_count": 9,
     "metadata": {},
     "output_type": "execute_result"
    }
   ],
   "source": [
    "#check new value\n",
    "a"
   ]
  },
  {
   "cell_type": "markdown",
   "metadata": {},
   "source": [
    "### Lists\n",
    "\n",
    "A list is a collection of items that also have a position.  We can save a list as a variable, and access individual memebers or collections of members.  For example, if we have a list\n",
    "\n",
    "```python\n",
    "l = [1, 4, 6, 3, 1]\n",
    "```\n",
    "\n",
    "We can access the entire list as `l` or individual elements with the `l[element]` syntax.  Python starts counting at zero, so the first element in the list is `l[0]`."
   ]
  },
  {
   "cell_type": "code",
   "execution_count": 10,
   "metadata": {},
   "outputs": [],
   "source": [
    "l = [1, 4, 6, 3, 1]"
   ]
  },
  {
   "cell_type": "code",
   "execution_count": 11,
   "metadata": {},
   "outputs": [
    {
     "data": {
      "text/plain": [
       "[1, 4, 6, 3, 1]"
      ]
     },
     "execution_count": 11,
     "metadata": {},
     "output_type": "execute_result"
    }
   ],
   "source": [
    "l"
   ]
  },
  {
   "cell_type": "code",
   "execution_count": 12,
   "metadata": {},
   "outputs": [
    {
     "data": {
      "text/plain": [
       "1"
      ]
     },
     "execution_count": 12,
     "metadata": {},
     "output_type": "execute_result"
    }
   ],
   "source": [
    "l[0]"
   ]
  },
  {
   "cell_type": "code",
   "execution_count": 13,
   "metadata": {},
   "outputs": [
    {
     "data": {
      "text/plain": [
       "1"
      ]
     },
     "execution_count": 13,
     "metadata": {},
     "output_type": "execute_result"
    }
   ],
   "source": [
    "l[4]"
   ]
  },
  {
   "cell_type": "code",
   "execution_count": 14,
   "metadata": {},
   "outputs": [
    {
     "data": {
      "text/plain": [
       "[1, 4, 6, 3]"
      ]
     },
     "execution_count": 14,
     "metadata": {},
     "output_type": "execute_result"
    }
   ],
   "source": [
    "l[:4]"
   ]
  },
  {
   "cell_type": "code",
   "execution_count": 15,
   "metadata": {},
   "outputs": [
    {
     "data": {
      "text/plain": [
       "[4, 6, 3]"
      ]
     },
     "execution_count": 15,
     "metadata": {},
     "output_type": "execute_result"
    }
   ],
   "source": [
    "l[1:4]"
   ]
  },
  {
   "cell_type": "markdown",
   "metadata": {},
   "source": [
    "### Loops\n",
    "\n",
    "If we wanted to examine each object of the list above, we can use the idea of a loop.  A loop will literally loop through each value of the list and perform some kind of operation that we specify.  A basic example would be printing each value of the list.  A more complex is doing some arithmetic on the values."
   ]
  },
  {
   "cell_type": "code",
   "execution_count": 13,
   "metadata": {},
   "outputs": [
    {
     "name": "stdout",
     "output_type": "stream",
     "text": [
      "1\n",
      "4\n",
      "6\n",
      "3\n",
      "1\n"
     ]
    }
   ],
   "source": [
    "for element in l:\n",
    "    print(element)"
   ]
  },
  {
   "cell_type": "code",
   "execution_count": 14,
   "metadata": {},
   "outputs": [
    {
     "name": "stdout",
     "output_type": "stream",
     "text": [
      "4\n",
      "16\n",
      "24\n",
      "12\n",
      "4\n"
     ]
    }
   ],
   "source": [
    "for element in l:\n",
    "    print(element * 5 - element)"
   ]
  },
  {
   "cell_type": "markdown",
   "metadata": {},
   "source": [
    "### PROBLEMS\n",
    "\n",
    "1. Make a list called `ints` that contains $1, 2, 3, 4, 5, 6, 7, 8, 9, 10$.\n",
    "\n",
    "2. Loop through this list and print each element.\n",
    "\n",
    "3. Loop through this list and print the first ten odd numbers. ($2i - 1$)"
   ]
  },
  {
   "cell_type": "code",
   "execution_count": null,
   "metadata": {},
   "outputs": [],
   "source": []
  },
  {
   "cell_type": "code",
   "execution_count": null,
   "metadata": {},
   "outputs": [],
   "source": []
  },
  {
   "cell_type": "code",
   "execution_count": null,
   "metadata": {},
   "outputs": [],
   "source": []
  },
  {
   "cell_type": "code",
   "execution_count": null,
   "metadata": {},
   "outputs": [],
   "source": []
  },
  {
   "cell_type": "code",
   "execution_count": null,
   "metadata": {},
   "outputs": [],
   "source": []
  },
  {
   "cell_type": "code",
   "execution_count": null,
   "metadata": {},
   "outputs": [],
   "source": []
  },
  {
   "cell_type": "markdown",
   "metadata": {},
   "source": [
    "### The Square Root\n",
    "\n",
    "Now, we are ready to complete the square root problem.  Here, we need one additional piece.  Rather than starting with a list of values, we will start with our initial guess and append values to a list that are a result of the $x_{n+1}$ term in our algorithm."
   ]
  },
  {
   "cell_type": "code",
   "execution_count": 16,
   "metadata": {},
   "outputs": [],
   "source": [
    "#initial guess\n",
    "x = [1.5]"
   ]
  },
  {
   "cell_type": "code",
   "execution_count": 17,
   "metadata": {},
   "outputs": [],
   "source": [
    "#next value\n",
    "nxt = 1/2*(x[0] + 2/x[0])"
   ]
  },
  {
   "cell_type": "code",
   "execution_count": 18,
   "metadata": {},
   "outputs": [],
   "source": [
    "#append the new variable nxt\n",
    "#to our list x\n",
    "x.append(nxt)"
   ]
  },
  {
   "cell_type": "code",
   "execution_count": 19,
   "metadata": {},
   "outputs": [
    {
     "data": {
      "text/plain": [
       "[1.5, 1.4166666666666665]"
      ]
     },
     "execution_count": 19,
     "metadata": {},
     "output_type": "execute_result"
    }
   ],
   "source": [
    "x"
   ]
  },
  {
   "cell_type": "code",
   "execution_count": 20,
   "metadata": {},
   "outputs": [],
   "source": [
    "#initial approximation\n",
    "x = [1.5]\n",
    "#for loop that goes through 10 times (range does this)\n",
    "for num in range(10):\n",
    "    #next approximation\n",
    "    nxt = 1/2 * (x[num] + 2/x[num])\n",
    "    #tack next onto list\n",
    "    x.append(nxt)"
   ]
  },
  {
   "cell_type": "code",
   "execution_count": 21,
   "metadata": {},
   "outputs": [
    {
     "data": {
      "text/plain": [
       "[1.5,\n",
       " 1.4166666666666665,\n",
       " 1.4142156862745097,\n",
       " 1.4142135623746899,\n",
       " 1.414213562373095,\n",
       " 1.414213562373095,\n",
       " 1.414213562373095,\n",
       " 1.414213562373095,\n",
       " 1.414213562373095,\n",
       " 1.414213562373095,\n",
       " 1.414213562373095]"
      ]
     },
     "execution_count": 21,
     "metadata": {},
     "output_type": "execute_result"
    }
   ],
   "source": [
    "x"
   ]
  },
  {
   "cell_type": "markdown",
   "metadata": {},
   "source": [
    "## Plotting\n",
    "\n",
    "To draw a plot, we will use the `matplotlib` library.  Earlier, we imported this library and abbreviated it as `plt`.  This simply means that whenever we want to use a plotting function, we will have to write `plt.` followed by a plotting method.  To start, we can draw a plot of our list with `plt.plot(x)`.  Arguments can be accessed by typing `shift + tab` after writing the functions.  For example, to find the arguments and help for the `plt.plot` method, we can use the `shift + tab` approach or in a Jupyter notebook if we write `plt.plot?` and execute, we will see the help for the function."
   ]
  },
  {
   "cell_type": "code",
   "execution_count": 22,
   "metadata": {},
   "outputs": [
    {
     "data": {
      "text/plain": [
       "[<matplotlib.lines.Line2D at 0x10dec9550>]"
      ]
     },
     "execution_count": 22,
     "metadata": {},
     "output_type": "execute_result"
    },
    {
     "data": {
      "image/png": "[encoded data removed]",
      "text/plain": [
       "<matplotlib.figure.Figure at 0x10de56940>"
      ]
     },
     "metadata": {},
     "output_type": "display_data"
    }
   ],
   "source": [
    "#basic plot of our approximations\n",
    "plt.plot(x)"
   ]
  },
  {
   "cell_type": "code",
   "execution_count": 24,
   "metadata": {},
   "outputs": [
    {
     "data": {
      "text/plain": [
       "\u001b[0;31mSignature:\u001b[0m \u001b[0mplt\u001b[0m\u001b[0;34m.\u001b[0m\u001b[0mplot\u001b[0m\u001b[0;34m(\u001b[0m\u001b[0;34m*\u001b[0m\u001b[0margs\u001b[0m\u001b[0;34m,\u001b[0m \u001b[0;34m**\u001b[0m\u001b[0mkwargs\u001b[0m\u001b[0;34m)\u001b[0m\u001b[0;34m\u001b[0m\u001b[0m\n",
       "\u001b[0;31mDocstring:\u001b[0m\n",
       "Plot lines and/or markers to the\n",
       ":class:`~matplotlib.axes.Axes`.  *args* is a variable length\n",
       "argument, allowing for multiple *x*, *y* pairs with an\n",
       "optional format string.  For example, each of the following is\n",
       "legal::\n",
       "\n",
       "    plot(x, y)        # plot x and y using default line style and color\n",
       "    plot(x, y, 'bo')  # plot x and y using blue circle markers\n",
       "    plot(y)           # plot y using x as index array 0..N-1\n",
       "    plot(y, 'r+')     # ditto, but with red plusses\n",
       "\n",
       "If *x* and/or *y* is 2-dimensional, then the corresponding columns\n",
       "will be plotted.\n",
       "\n",
       "If used with labeled data, make sure that the color spec is not\n",
       "included as an element in data, as otherwise the last case\n",
       "``plot(\"v\",\"r\", data={\"v\":..., \"r\":...)``\n",
       "can be interpreted as the first case which would do ``plot(v, r)``\n",
       "using the default line style and color.\n",
       "\n",
       "If not used with labeled data (i.e., without a data argument),\n",
       "an arbitrary number of *x*, *y*, *fmt* groups can be specified, as in::\n",
       "\n",
       "    a.plot(x1, y1, 'g^', x2, y2, 'g-')\n",
       "\n",
       "Return value is a list of lines that were added.\n",
       "\n",
       "By default, each line is assigned a different style specified by a\n",
       "'style cycle'.  To change this behavior, you can edit the\n",
       "axes.prop_cycle rcParam.\n",
       "\n",
       "The following format string characters are accepted to control\n",
       "the line style or marker:\n",
       "\n",
       "================    ===============================\n",
       "character           description\n",
       "================    ===============================\n",
       "``'-'``             solid line style\n",
       "``'--'``            dashed line style\n",
       "``'-.'``            dash-dot line style\n",
       "``':'``             dotted line style\n",
       "``'.'``             point marker\n",
       "``','``             pixel marker\n",
       "``'o'``             circle marker\n",
       "``'v'``             triangle_down marker\n",
       "``'^'``             triangle_up marker\n",
       "``'<'``             triangle_left marker\n",
       "``'>'``             triangle_right marker\n",
       "``'1'``             tri_down marker\n",
       "``'2'``             tri_up marker\n",
       "``'3'``             tri_left marker\n",
       "``'4'``             tri_right marker\n",
       "``'s'``             square marker\n",
       "``'p'``             pentagon marker\n",
       "``'*'``             star marker\n",
       "``'h'``             hexagon1 marker\n",
       "``'H'``             hexagon2 marker\n",
       "``'+'``             plus marker\n",
       "``'x'``             x marker\n",
       "``'D'``             diamond marker\n",
       "``'d'``             thin_diamond marker\n",
       "``'|'``             vline marker\n",
       "``'_'``             hline marker\n",
       "================    ===============================\n",
       "\n",
       "\n",
       "The following color abbreviations are supported:\n",
       "\n",
       "==========  ========\n",
       "character   color\n",
       "==========  ========\n",
       "'b'         blue\n",
       "'g'         green\n",
       "'r'         red\n",
       "'c'         cyan\n",
       "'m'         magenta\n",
       "'y'         yellow\n",
       "'k'         black\n",
       "'w'         white\n",
       "==========  ========\n",
       "\n",
       "In addition, you can specify colors in many weird and\n",
       "wonderful ways, including full names (``'green'``), hex\n",
       "strings (``'#008000'``), RGB or RGBA tuples (``(0,1,0,1)``) or\n",
       "grayscale intensities as a string (``'0.8'``).  Of these, the\n",
       "string specifications can be used in place of a ``fmt`` group,\n",
       "but the tuple forms can be used only as ``kwargs``.\n",
       "\n",
       "Line styles and colors are combined in a single format string, as in\n",
       "``'bo'`` for blue circles.\n",
       "\n",
       "The *kwargs* can be used to set line properties (any property that has\n",
       "a ``set_*`` method).  You can use this to set a line label (for auto\n",
       "legends), linewidth, anitialising, marker face color, etc.  Here is an\n",
       "example::\n",
       "\n",
       "    plot([1,2,3], [1,2,3], 'go-', label='line 1', linewidth=2)\n",
       "    plot([1,2,3], [1,4,9], 'rs',  label='line 2')\n",
       "    axis([0, 4, 0, 10])\n",
       "    legend()\n",
       "\n",
       "If you make multiple lines with one plot command, the kwargs\n",
       "apply to all those lines, e.g.::\n",
       "\n",
       "    plot(x1, y1, x2, y2, antialiased=False)\n",
       "\n",
       "Neither line will be antialiased.\n",
       "\n",
       "You do not need to use format strings, which are just\n",
       "abbreviations.  All of the line properties can be controlled\n",
       "by keyword arguments.  For example, you can set the color,\n",
       "marker, linestyle, and markercolor with::\n",
       "\n",
       "    plot(x, y, color='green', linestyle='dashed', marker='o',\n",
       "         markerfacecolor='blue', markersize=12).\n",
       "\n",
       "See :class:`~matplotlib.lines.Line2D` for details.\n",
       "\n",
       "The kwargs are :class:`~matplotlib.lines.Line2D` properties:\n",
       "\n",
       "  agg_filter: a filter function, which takes a (m, n, 3) float array and a dpi value, and returns a (m, n, 3) array \n",
       "  alpha: float (0.0 transparent through 1.0 opaque) \n",
       "  animated: bool \n",
       "  antialiased or aa: [True | False] \n",
       "  clip_box: a `~.Bbox` instance \n",
       "  clip_on: bool \n",
       "  clip_path: [(`~matplotlib.path.Path`, `~.Transform`) | `~.Patch` | None] \n",
       "  color or c: any matplotlib color \n",
       "  contains: a callable function \n",
       "  dash_capstyle: ['butt' | 'round' | 'projecting'] \n",
       "  dash_joinstyle: ['miter' | 'round' | 'bevel'] \n",
       "  dashes: sequence of on/off ink in points \n",
       "  drawstyle: ['default' | 'steps' | 'steps-pre' | 'steps-mid' | 'steps-post'] \n",
       "  figure: a `~.Figure` instance \n",
       "  fillstyle: ['full' | 'left' | 'right' | 'bottom' | 'top' | 'none'] \n",
       "  gid: an id string \n",
       "  label: object \n",
       "  linestyle or ls: ['solid' | 'dashed', 'dashdot', 'dotted' | (offset, on-off-dash-seq) | ``'-'`` | ``'--'`` | ``'-.'`` | ``':'`` | ``'None'`` | ``' '`` | ``''``]\n",
       "  linewidth or lw: float value in points \n",
       "  marker: :mod:`A valid marker style <matplotlib.markers>`\n",
       "  markeredgecolor or mec: any matplotlib color \n",
       "  markeredgewidth or mew: float value in points \n",
       "  markerfacecolor or mfc: any matplotlib color \n",
       "  markerfacecoloralt or mfcalt: any matplotlib color \n",
       "  markersize or ms: float \n",
       "  markevery: [None | int | length-2 tuple of int | slice | list/array of int | float | length-2 tuple of float]\n",
       "  path_effects: `~.AbstractPathEffect` \n",
       "  picker: float distance in points or callable pick function ``fn(artist, event)`` \n",
       "  pickradius: float distance in points\n",
       "  rasterized: bool or None \n",
       "  sketch_params: (scale: float, length: float, randomness: float) \n",
       "  snap: bool or None \n",
       "  solid_capstyle: ['butt' | 'round' |  'projecting'] \n",
       "  solid_joinstyle: ['miter' | 'round' | 'bevel'] \n",
       "  transform: a :class:`matplotlib.transforms.Transform` instance \n",
       "  url: a url string \n",
       "  visible: bool \n",
       "  xdata: 1D array \n",
       "  ydata: 1D array \n",
       "  zorder: float \n",
       "\n",
       "kwargs *scalex* and *scaley*, if defined, are passed on to\n",
       ":meth:`~matplotlib.axes.Axes.autoscale_view` to determine\n",
       "whether the *x* and *y* axes are autoscaled; the default is\n",
       "*True*.\n",
       "\n",
       ".. note::\n",
       "    In addition to the above described arguments, this function can take a\n",
       "    **data** keyword argument. If such a **data** argument is given, the\n",
       "    following arguments are replaced by **data[<arg>]**:\n",
       "\n",
       "    * All arguments with the following names: 'x', 'y'.\n",
       "\u001b[0;31mFile:\u001b[0m      /anaconda3/lib/python3.6/site-packages/matplotlib/pyplot.py\n",
       "\u001b[0;31mType:\u001b[0m      function\n"
      ]
     },
     "metadata": {},
     "output_type": "display_data"
    }
   ],
   "source": [
    "plt.plot?"
   ]
  },
  {
   "cell_type": "code",
   "execution_count": 23,
   "metadata": {},
   "outputs": [
    {
     "data": {
      "text/plain": [
       "[<matplotlib.lines.Line2D at 0x10dfb0390>]"
      ]
     },
     "execution_count": 23,
     "metadata": {},
     "output_type": "execute_result"
    },
    {
     "data": {
      "image/png": "[encoded data removed]",
      "text/plain": [
       "<matplotlib.figure.Figure at 0x10de886a0>"
      ]
     },
     "metadata": {},
     "output_type": "display_data"
    }
   ],
   "source": [
    "#changing the line style\n",
    "plt.plot(x, '--o')"
   ]
  },
  {
   "cell_type": "code",
   "execution_count": 23,
   "metadata": {},
   "outputs": [
    {
     "data": {
      "image/png": "[encoded data removed]",
      "text/plain": [
       "<matplotlib.figure.Figure at 0x108100908>"
      ]
     },
     "metadata": {},
     "output_type": "display_data"
    }
   ],
   "source": [
    "#Customizing the figure size, line, adding a legend, and a title\n",
    "plt.figure(figsize = (9, 5))\n",
    "plt.plot(x, '--o', color = 'red', label = 'approximations', alpha = 0.4)\n",
    "plt.legend(loc = 'best', frameon = False)\n",
    "plt.title(\"My Approximations\", loc = 'left');"
   ]
  },
  {
   "cell_type": "markdown",
   "metadata": {},
   "source": [
    "### PROBLEM\n",
    "\n",
    "1. Alter the problems above to find the square root of three, and plot the first five approximations."
   ]
  },
  {
   "cell_type": "code",
   "execution_count": 27,
   "metadata": {},
   "outputs": [],
   "source": [
    "x2 = [1.75]\n",
    "for num in range(5):\n",
    "    nxt = 0.5*(x2[num] + 3/x2[num])\n",
    "    x2.append(nxt)\n",
    "    \n",
    "x3 = [17]\n",
    "for num in range(5):\n",
    "    nxt = 0.5*(x3[num] + 3/x3[num])\n",
    "    x3.append(nxt)"
   ]
  },
  {
   "cell_type": "code",
   "execution_count": 28,
   "metadata": {},
   "outputs": [
    {
     "data": {
      "text/plain": [
       "[1.75,\n",
       " 1.7321428571428572,\n",
       " 1.7320508100147274,\n",
       " 1.7320508075688772,\n",
       " 1.7320508075688772,\n",
       " 1.7320508075688772]"
      ]
     },
     "execution_count": 28,
     "metadata": {},
     "output_type": "execute_result"
    }
   ],
   "source": [
    "x2"
   ]
  },
  {
   "cell_type": "code",
   "execution_count": 29,
   "metadata": {},
   "outputs": [
    {
     "data": {
      "text/plain": [
       "[17,\n",
       " 8.588235294117647,\n",
       " 4.468775181305399,\n",
       " 2.570050034866737,\n",
       " 1.8686712420788658,\n",
       " 1.7370450362767942]"
      ]
     },
     "execution_count": 29,
     "metadata": {},
     "output_type": "execute_result"
    }
   ],
   "source": [
    "x3"
   ]
  },
  {
   "cell_type": "code",
   "execution_count": 30,
   "metadata": {},
   "outputs": [
    {
     "data": {
      "text/plain": [
       "[<matplotlib.lines.Line2D at 0x10e0172e8>]"
      ]
     },
     "execution_count": 30,
     "metadata": {},
     "output_type": "execute_result"
    },
    {
     "data": {
      "image/png": "[encoded data removed]",
      "text/plain": [
       "<matplotlib.figure.Figure at 0x10dff0320>"
      ]
     },
     "metadata": {},
     "output_type": "display_data"
    }
   ],
   "source": [
    "plt.plot(x2)\n",
    "plt.plot(x3)"
   ]
  },
  {
   "cell_type": "code",
   "execution_count": null,
   "metadata": {},
   "outputs": [],
   "source": []
  },
  {
   "cell_type": "markdown",
   "metadata": {},
   "source": [
    "## Functions\n",
    "\n",
    "We can easily define functions in Python.  For example, the familiar function $f(x) = x^2$ would be written as follows in Python.\n",
    "\n",
    "```python\n",
    "def f(x):\n",
    "    return x**2\n",
    "```\n",
    "\n",
    "Here, we are naming our function and its input with the `def f(x)` piece.  Next, we define the fate of the input values to our functions with the `x**2`.  Now, our function is like a variable that takes an input.  If we write `f(2)` we would get `4`."
   ]
  },
  {
   "cell_type": "code",
   "execution_count": 31,
   "metadata": {},
   "outputs": [],
   "source": [
    "#define our function\n",
    "def f(x):\n",
    "    return x**2"
   ]
  },
  {
   "cell_type": "code",
   "execution_count": 32,
   "metadata": {},
   "outputs": [
    {
     "data": {
      "text/plain": [
       "4"
      ]
     },
     "execution_count": 32,
     "metadata": {},
     "output_type": "execute_result"
    }
   ],
   "source": [
    "#evaluate the function at 2\n",
    "f(2)"
   ]
  },
  {
   "cell_type": "code",
   "execution_count": 33,
   "metadata": {},
   "outputs": [
    {
     "data": {
      "text/plain": [
       "16"
      ]
     },
     "execution_count": 33,
     "metadata": {},
     "output_type": "execute_result"
    }
   ],
   "source": [
    "#evaluate at a different value, -4\n",
    "f(-4)"
   ]
  },
  {
   "cell_type": "code",
   "execution_count": 34,
   "metadata": {},
   "outputs": [
    {
     "data": {
      "text/plain": [
       "[4, 1, 0, 1, 4]"
      ]
     },
     "execution_count": 34,
     "metadata": {},
     "output_type": "execute_result"
    }
   ],
   "source": [
    "#find multiple values\n",
    "[f(i) for i in [-2, -1, 0, 1, 2]]"
   ]
  },
  {
   "cell_type": "code",
   "execution_count": 35,
   "metadata": {},
   "outputs": [
    {
     "data": {
      "text/plain": [
       "[<matplotlib.lines.Line2D at 0x10e558c88>]"
      ]
     },
     "execution_count": 35,
     "metadata": {},
     "output_type": "execute_result"
    },
    {
     "data": {
      "image/png": "[encoded data removed]",
      "text/plain": [
       "<matplotlib.figure.Figure at 0x10e004ef0>"
      ]
     },
     "metadata": {},
     "output_type": "display_data"
    }
   ],
   "source": [
    "#plot the list\n",
    "plt.plot([f(i) for i in [-2, -1, 0, 1, 2]])"
   ]
  },
  {
   "cell_type": "code",
   "execution_count": 36,
   "metadata": {},
   "outputs": [
    {
     "data": {
      "text/plain": [
       "array([0. , 0.5, 1. ])"
      ]
     },
     "execution_count": 36,
     "metadata": {},
     "output_type": "execute_result"
    }
   ],
   "source": [
    "#numpy help!\n",
    "np.linspace(0, 1, 3)"
   ]
  },
  {
   "cell_type": "code",
   "execution_count": 37,
   "metadata": {},
   "outputs": [
    {
     "data": {
      "text/plain": [
       "[<matplotlib.lines.Line2D at 0x10e5c6a20>]"
      ]
     },
     "execution_count": 37,
     "metadata": {},
     "output_type": "execute_result"
    },
    {
     "data": {
      "image/png": "[encoded data removed]",
      "text/plain": [
       "<matplotlib.figure.Figure at 0x10e588630>"
      ]
     },
     "metadata": {},
     "output_type": "display_data"
    }
   ],
   "source": [
    "#smoothing things out\n",
    "x = np.linspace(-2, 2, 1000)\n",
    "plt.plot(x, f(x))"
   ]
  },
  {
   "cell_type": "markdown",
   "metadata": {},
   "source": [
    "## Riemann Sums\n",
    "\n",
    "Recall our formula for Riemann Sums:\n",
    "\n",
    "$$\\Delta x \\sum_{i=1}^n f(a + \\Delta x i)$$\n",
    "\n",
    "where $\\Delta x = \\frac{b - a}{n}$ with $a = $left endpoint, $b=$ right endpoint, and $n$ equals the number of rectangles we are using.  \n",
    "\n",
    "**EXAMPLE**: \n",
    "\n",
    "Suppose we want to approximate the area under $f(x) = -x^2 + 1$ from $x = -2$ to $x = 2$ with four rectangles.\n",
    "\n",
    "- $a = -2$\n",
    "- $b = 2$\n",
    "- $n = 4$\n",
    "\n",
    "so \n",
    "\n",
    "- $\\Delta x = \\frac{2 - (-2)}{4}$\n",
    "\n",
    "and we have:\n",
    "\n",
    "$$1 \\times (f(-1) + f(0) + f(1) + f(2))$$\n",
    "\n",
    "To do this on the computer, we will define our function, and make a list of the $x$ values for the rectangles to plug into this function."
   ]
  },
  {
   "cell_type": "code",
   "execution_count": 41,
   "metadata": {},
   "outputs": [],
   "source": [
    "#save our variables and compute delta x\n",
    "a = -2\n",
    "b = 2\n",
    "n = 4\n",
    "delta_x = (b - a)/n"
   ]
  },
  {
   "cell_type": "code",
   "execution_count": 53,
   "metadata": {},
   "outputs": [],
   "source": [
    "#use a loop to make endpoints for rectangles\n",
    "xs = []\n",
    "for i in range(n+1):\n",
    "    x = a + delta_x*i\n",
    "    xs.append(x)"
   ]
  },
  {
   "cell_type": "code",
   "execution_count": 54,
   "metadata": {},
   "outputs": [
    {
     "data": {
      "text/plain": [
       "[-2.0, -1.0, 0.0, 1.0, 2.0]"
      ]
     },
     "execution_count": 54,
     "metadata": {},
     "output_type": "execute_result"
    }
   ],
   "source": [
    "xs"
   ]
  },
  {
   "cell_type": "code",
   "execution_count": 55,
   "metadata": {},
   "outputs": [],
   "source": [
    "#define a function\n",
    "def f(x): \n",
    "    return -x**2 + 1"
   ]
  },
  {
   "cell_type": "code",
   "execution_count": 56,
   "metadata": {},
   "outputs": [
    {
     "data": {
      "text/plain": [
       "[-3.0, 0.0, 1.0, 0.0, -3.0]"
      ]
     },
     "execution_count": 56,
     "metadata": {},
     "output_type": "execute_result"
    }
   ],
   "source": [
    "#evaluate heights of rectangles in function\n",
    "[f(i) for i in xs]"
   ]
  },
  {
   "cell_type": "code",
   "execution_count": 57,
   "metadata": {},
   "outputs": [],
   "source": [
    "x = np.linspace(-2,2,100)"
   ]
  },
  {
   "cell_type": "code",
   "execution_count": 59,
   "metadata": {},
   "outputs": [
    {
     "name": "stdout",
     "output_type": "stream",
     "text": [
      "Here, we could use four rectangles, built on the right endpoint of four equally spaced rectangular pieces.\n"
     ]
    },
    {
     "data": {
      "image/png": "[encoded data removed]",
      "text/plain": [
       "<matplotlib.figure.Figure at 0x108df7e10>"
      ]
     },
     "metadata": {},
     "output_type": "display_data"
    }
   ],
   "source": [
    "plt.plot(x, f(x))\n",
    "plt.axhline(color = 'black')\n",
    "\n",
    "plt.step(xs, [f(i) for i in xs])\n",
    "plt.xticks(xs)\n",
    "plt.yticks([f(i) for i in xs])\n",
    "print(\"Here, we could use four rectangles, built on the right endpoint of four equally spaced rectangular pieces.\")"
   ]
  },
  {
   "cell_type": "code",
   "execution_count": 61,
   "metadata": {},
   "outputs": [
    {
     "data": {
      "image/png": "[encoded data removed]",
      "text/plain": [
       "<matplotlib.figure.Figure at 0x1089bb2b0>"
      ]
     },
     "metadata": {},
     "output_type": "display_data"
    }
   ],
   "source": [
    "def f(x): return x**3 - 2\n",
    "\n",
    "\n",
    "\n",
    "a = -2\n",
    "b = 2\n",
    "n = 4\n",
    "delta_x = (b - a)/n\n",
    "xs = []\n",
    "for i in range(n+1):\n",
    "    x = a + delta_x*i\n",
    "    xs.append(x)\n",
    "    \n",
    "x = np.linspace(a, b,100)\n",
    "plt.plot(x, f(x))\n",
    "plt.axhline(color = 'black')\n",
    "\n",
    "plt.step(xs, [f(i) for i in xs])\n",
    "plt.xticks(xs)\n",
    "plt.yticks([f(i) for i in xs]);"
   ]
  },
  {
   "cell_type": "code",
   "execution_count": 69,
   "metadata": {},
   "outputs": [
    {
     "data": {
      "image/png": "[encoded data removed]",
      "text/plain": [
       "<matplotlib.figure.Figure at 0x108c1ceb8>"
      ]
     },
     "metadata": {},
     "output_type": "display_data"
    }
   ],
   "source": [
    "def f(x): return x**4 + 1.4*x**3 - 2*x - 2\n",
    "\n",
    "\n",
    "\n",
    "a = -2\n",
    "b = 2\n",
    "n = 40\n",
    "delta_x = (b - a)/n\n",
    "xs = []\n",
    "for i in range(n+1):\n",
    "    x = a + delta_x*i\n",
    "    xs.append(x)\n",
    "    \n",
    "x = np.linspace(a, b,100)\n",
    "plt.figure(figsize = (9, 4))\n",
    "plt.plot(x, f(x))\n",
    "plt.axhline(color = 'black')\n",
    "\n",
    "plt.step(xs, [f(i) for i in xs])\n",
    "plt.xticks(xs)\n",
    "plt.yticks([f(i) for i in xs]);"
   ]
  },
  {
   "cell_type": "markdown",
   "metadata": {},
   "source": [
    "### PROBLEMS"
   ]
  }
 ],
 "metadata": {
  "kernelspec": {
   "display_name": "Python 3",
   "language": "python",
   "name": "python3"
  },
  "language_info": {
   "codemirror_mode": {
    "name": "ipython",
    "version": 3
   },
   "file_extension": ".py",
   "mimetype": "text/x-python",
   "name": "python",
   "nbconvert_exporter": "python",
   "pygments_lexer": "ipython3",
   "version": "3.6.6"
  }
 },
 "nbformat": 4,
 "nbformat_minor": 2
}
