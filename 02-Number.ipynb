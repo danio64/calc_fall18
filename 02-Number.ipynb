{
 "cells": [
  {
   "cell_type": "markdown",
   "metadata": {
    "slideshow": {
     "slide_type": "-"
    }
   },
   "source": [
    "# Number\n",
    "\n",
    "**GOALS**\n",
    "\n",
    "- Identify different kinds of numbers and where they might be found\n",
    "- Describe why irrational numbers present difficulty for the mathematician"
   ]
  },
  {
   "cell_type": "markdown",
   "metadata": {},
   "source": [
    "## The Natural Number\n",
    "\n",
    "Natural numbers are so named as they are often believed to be the most natural use of number -- counting and ordering.  Often, we imagine number represented by a symbol like 3, but we can also consider a Natural Number as related to some geometric object like a point or sqaure representing a single unit.  To get used to what may be a more visual way of thinking about mathematical objects, we will investigate some properties of natural numbers and the possibility to *prove* these true.  \n",
    "\n",
    "For example, consider the notion of an **even** and **odd** number.  An even number $m$ can be written as\n",
    "\n",
    "$$m = 2n$$\n",
    "\n",
    "for some other natural number $n$.  One other way to think about this is that we have two groups containing $n$ objects.  The example below is for the even number 6, which can be written as $2 \\times 3$.\n",
    "<center>\n",
    "<img src = \"images/even.png\" />\n",
    "</center>\n",
    "\n",
    "Similarly, an odd number $m$ can be written as \n",
    "\n",
    "$$m = 2n + 1$$ for some natural number $n$.  One more than 6 is 7, which is an odd number.  We can consider this visually as:\n",
    "<center>\n",
    "<img src = \"images/odd.png\"/>\n",
    "    </center>"
   ]
  },
  {
   "cell_type": "markdown",
   "metadata": {},
   "source": [
    "### Problem\n",
    "\n",
    "Given these representational strategies, can you give an argument for or against the following statements?\n",
    "\n",
    "- The sum of two even numbers is even\n",
    "- The sum of two odd numbers is even\n",
    "- The sum of an even and odd is odd\n",
    "- If $x$ and $y$ are even, then $xy$ is divisible by 4\n",
    "- If $x$ is even and $y$ is odd, then $xy$ is even"
   ]
  },
  {
   "cell_type": "markdown",
   "metadata": {},
   "source": [
    "### Problem\n",
    "\n",
    "Write a program in Python that will take any number in and determine if that number is even or odd.\n",
    "\n"
   ]
  },
  {
   "cell_type": "markdown",
   "metadata": {},
   "source": [
    "## The Rational Number\n",
    "\n",
    "Once we have our idea of a Natural Number established, we can create numbers that are a result of dividing a single unit into smaller pieces.  This is a **rational number**.  Formally, we would say a rational number $a$ is formed from any two natural numbers $m, n$ where:\n",
    "\n",
    "$$a = \\frac{m}{n}$$\n",
    "\n",
    "and $n \\neq 0$.  These are your familiar fractions.  They are easily written as a ratio between natural numbers, but writing them in our decimal notation takes a little more work.  First, it's important to recognize that our symbolic representation is not to be taken for granted.  This is a human invention to aid in the use of number as a tool for society.  Base 10 numeration is an earlier kind of computer, where the interface is the pen and some kind of writing surface.  \n",
    "\n",
    "Base 10 numeration means that each place value represents a power of 10.  To understand such a thing is often the focus of early grades mathematical teaching, and accordingly has seen a variety of material technologies emerge to support students learning.  You have the option to explore these more in the homework assignment and readings.  For now, let's consider a contemporary task that illustrates what we expect students to know about rational numbers.\n",
    "\n",
    "<center>\n",
    "<img src = \"images/rational.png\" width = 400 height = 300 />\n",
    "</center>\n",
    "\n",
    "This gets at the question of does $0.99999..... = 1$?  To answer this, let us consider how we can represent a "
   ]
  },
  {
   "cell_type": "code",
   "execution_count": null,
   "metadata": {},
   "outputs": [],
   "source": []
  },
  {
   "cell_type": "code",
   "execution_count": null,
   "metadata": {},
   "outputs": [],
   "source": []
  },
  {
   "cell_type": "code",
   "execution_count": null,
   "metadata": {},
   "outputs": [],
   "source": []
  },
  {
   "cell_type": "code",
   "execution_count": null,
   "metadata": {},
   "outputs": [],
   "source": []
  },
  {
   "cell_type": "markdown",
   "metadata": {},
   "source": [
    "### The Irrational Number\n",
    "\n",
    "As might be expected, the irrational is some number that is formed by means besides one arithmetic operation on integers.  One example, is the \"square root\" of 2.  This number cannot be replicated as the quotient of integer quantities.  Early societies like the Babylonians had methods for determining this quantity; we will follow them here.  To do so, we begin by recognizing the relationship called the **Pythagorean Theorem**.  This *theorem* represents a relationship between legs of a right triangle and the hypotenuse.  The figure below demonstrates this.\n",
    "\n",
    "\n",
    "![](images/pythag.png)\n",
    "\n",
    "\n",
    "**PROBLEM**\n",
    "\n",
    "Your goal is to first establish the truth of the Pythagorean Theorem, and then to begin to approximate the value of $\\sqrt{2}$.\n",
    "\n",
    "First, the image below demonstrates an earlier approach found in Chinese mathematical texts:\n",
    "\n",
    "\n",
    "\n",
    "![](images/Chinese_pythagoras.jpg)\n",
    "\n",
    "Your goal is to discuss how to use this image to prove the fact that \n",
    "\n",
    "$$a^2 + b^2 = c^2$$\n",
    "\n",
    "Note, that the sides of the large square, and two embedded squares are meant to represent $a, b$, and $c$.  Now, once we are ready to believe this is true, how long would length $c$ be if $a = 1$ and $b = 1$?"
   ]
  },
  {
   "cell_type": "markdown",
   "metadata": {},
   "source": [
    "### PROBLEM\n",
    "\n",
    "Recall that the *square* of a number is the result of multiplying this number by itself.  Given the fact that the square root of two is less than 2 and more than 1, can you determine a good first approximation for this?\n",
    "\n",
    "\n",
    "\n",
    "Now, taking your first approximation, can you determine whether the square root is greater than your approximation or less?  Use this to determine what you would imagine is a closer approximation.\n",
    "\n",
    "\n",
    "Repeat the question above.  What is your new value for $\\sqrt{2}$?  Check this against a calculator and determine how far away from the \"real\" value you are.  How could you improve this?"
   ]
  },
  {
   "cell_type": "code",
   "execution_count": null,
   "metadata": {},
   "outputs": [],
   "source": []
  },
  {
   "cell_type": "code",
   "execution_count": null,
   "metadata": {},
   "outputs": [],
   "source": []
  },
  {
   "cell_type": "code",
   "execution_count": null,
   "metadata": {},
   "outputs": [],
   "source": []
  },
  {
   "cell_type": "code",
   "execution_count": null,
   "metadata": {},
   "outputs": [],
   "source": []
  },
  {
   "cell_type": "code",
   "execution_count": null,
   "metadata": {},
   "outputs": [],
   "source": []
  },
  {
   "cell_type": "code",
   "execution_count": null,
   "metadata": {},
   "outputs": [],
   "source": []
  },
  {
   "cell_type": "code",
   "execution_count": null,
   "metadata": {},
   "outputs": [],
   "source": []
  }
 ],
 "metadata": {
  "kernelspec": {
   "display_name": "Python 3",
   "language": "python",
   "name": "python3"
  },
  "language_info": {
   "codemirror_mode": {
    "name": "ipython",
    "version": 3
   },
   "file_extension": ".py",
   "mimetype": "text/x-python",
   "name": "python",
   "nbconvert_exporter": "python",
   "pygments_lexer": "ipython3",
   "version": "3.6.6"
  }
 },
 "nbformat": 4,
 "nbformat_minor": 2
}
