{
 "cells": [
  {
   "cell_type": "markdown",
   "metadata": {},
   "source": [
    "# Homework III\n",
    "\n",
    "**GOALS**: \n",
    "\n",
    "- Define and plot sequences defined recursively\n",
    "- Define and plot functions\n",
    "- Compare and contrast the two representations\n",
    "\n",
    "---\n",
    "\n",
    "## PROBLEM I\n",
    "\n",
    "Recall the syntax from class to create a list of values that depend on prior values.  Below, we have an example that would generate a list that starts at 1.5 and increases by 1 each time through.\n",
    "\n",
    "```python\n",
    "x = [1.5]\n",
    "for i in range(5):\n",
    "    nxt = x[i] + 1\n",
    "    x.append(nxt)\n",
    "```\n",
    "\n",
    "We can plot the results with `plt.plot(x, '-o')`, adding a marker at each point."
   ]
  },
  {
   "cell_type": "code",
   "execution_count": 1,
   "metadata": {},
   "outputs": [],
   "source": [
    "#starting value\n",
    "x = [1.5]\n",
    "#loop through five times, adding 1 to the previous value each time\n",
    "for i in range(5):\n",
    "    #here, we refer back to the previous value in the \n",
    "    #list x[i] and add one\n",
    "    nxt = x[i] + 1\n",
    "    #now we append the next value to our earlier list\n",
    "    x.append(nxt)"
   ]
  },
  {
   "cell_type": "code",
   "execution_count": 2,
   "metadata": {},
   "outputs": [],
   "source": [
    "%matplotlib inline\n",
    "import matplotlib.pyplot as plt\n",
    "import numpy as np"
   ]
  },
  {
   "cell_type": "code",
   "execution_count": 4,
   "metadata": {},
   "outputs": [
    {
     "data": {
      "text/plain": [
       "[<matplotlib.lines.Line2D at 0x1096045c0>]"
      ]
     },
     "execution_count": 4,
     "metadata": {},
     "output_type": "execute_result"
    },
    {
     "data": {
      "image/png": "[encoded data removed]",
      "text/plain": [
       "<matplotlib.figure.Figure at 0x107bd06d8>"
      ]
     },
     "metadata": {},
     "output_type": "display_data"
    }
   ],
   "source": [
    "plt.plot(x, 'o')"
   ]
  },
  {
   "cell_type": "markdown",
   "metadata": {},
   "source": [
    "Please investigate what happens if we were to change the example above as follows:\n",
    "\n",
    "- start with a smaller and larger initial value\n",
    "- increase and decrease the amount added each time through\n",
    "- make sure to include negative values and fractions in your exploration."
   ]
  },
  {
   "cell_type": "code",
   "execution_count": 5,
   "metadata": {},
   "outputs": [],
   "source": [
    "#test and plot_1"
   ]
  },
  {
   "cell_type": "code",
   "execution_count": 6,
   "metadata": {},
   "outputs": [],
   "source": [
    "#test and plot_2"
   ]
  },
  {
   "cell_type": "code",
   "execution_count": 7,
   "metadata": {},
   "outputs": [],
   "source": [
    "#test and plot_3"
   ]
  },
  {
   "cell_type": "code",
   "execution_count": 8,
   "metadata": {},
   "outputs": [],
   "source": [
    "#test and plot_4"
   ]
  },
  {
   "cell_type": "code",
   "execution_count": 9,
   "metadata": {},
   "outputs": [],
   "source": [
    "#test and plot_5"
   ]
  },
  {
   "cell_type": "markdown",
   "metadata": {},
   "source": [
    "## Change the change\n",
    "\n",
    "Before, we were adding a constant value each time through the loop.  Now, we want to explore what happens if we were to use these lists as rates of change.  For example, in the following sequence, we can define the **first difference** as the difference between successive terms, i.e. $x_n - x_{n - 1}$.  Consider the sequence $x1$:\n",
    "\n",
    "$$x1 = [1, 2, 3, 4, 5]$$\n",
    "\n",
    "\n",
    "Here, we have $x_0 = 1$, $x_1 = 2$, $x_2 = 3$, etc.\n",
    "\n",
    "The **first difference** of the first two terms  is $x_1 - x_0$.  Of the second pair would be $x_2 - x_1$. We're able to use a numpy function `np.diff()` to find the difference of a sequence.  \n"
   ]
  },
  {
   "cell_type": "code",
   "execution_count": 10,
   "metadata": {},
   "outputs": [],
   "source": [
    "import numpy as np"
   ]
  },
  {
   "cell_type": "code",
   "execution_count": 12,
   "metadata": {},
   "outputs": [
    {
     "data": {
      "text/plain": [
       "array([1, 1, 1, 1])"
      ]
     },
     "execution_count": 12,
     "metadata": {},
     "output_type": "execute_result"
    }
   ],
   "source": [
    "x = [1, 2, 3, 4, 5]\n",
    "#first difference of terms\n",
    "np.diff(x)"
   ]
  },
  {
   "cell_type": "code",
   "execution_count": 13,
   "metadata": {},
   "outputs": [
    {
     "data": {
      "text/plain": [
       "array([0, 0, 0])"
      ]
     },
     "execution_count": 13,
     "metadata": {},
     "output_type": "execute_result"
    }
   ],
   "source": [
    "#second difference\n",
    "np.diff(x, 2)"
   ]
  },
  {
   "cell_type": "code",
   "execution_count": 17,
   "metadata": {},
   "outputs": [
    {
     "data": {
      "text/plain": [
       "<matplotlib.legend.Legend at 0x10a5aab00>"
      ]
     },
     "execution_count": 17,
     "metadata": {},
     "output_type": "execute_result"
    },
    {
     "data": {
      "image/png": "[encoded data removed]",
      "text/plain": [
       "<matplotlib.figure.Figure at 0x10a527208>"
      ]
     },
     "metadata": {},
     "output_type": "display_data"
    }
   ],
   "source": [
    "plt.plot(x, 'o', label = 'sequence')\n",
    "plt.plot(np.diff(x), 'o', label = 'first difference')\n",
    "plt.legend()"
   ]
  },
  {
   "cell_type": "markdown",
   "metadata": {},
   "source": [
    "We could ask, what happens if we create a sequence that works the other way... a sequence whose first differences are $x$?"
   ]
  },
  {
   "cell_type": "code",
   "execution_count": 21,
   "metadata": {},
   "outputs": [
    {
     "data": {
      "text/plain": [
       "[<matplotlib.lines.Line2D at 0x1059596d8>]"
      ]
     },
     "execution_count": 21,
     "metadata": {},
     "output_type": "execute_result"
    },
    {
     "data": {
      "image/png": "[encoded data removed]",
      "text/plain": [
       "<matplotlib.figure.Figure at 0x109fd4080>"
      ]
     },
     "metadata": {},
     "output_type": "display_data"
    }
   ],
   "source": [
    "#a starting sequence of differences\n",
    "x = [1, 2, 3, 4, 5]\n",
    "#build our new sequence\n",
    "x2 = [1]\n",
    "for i in range(5):\n",
    "    #we make the next term by adding terms of differences!\n",
    "    nxt = x2[i] + x[i]\n",
    "    x2.append(nxt)\n",
    "    \n",
    "plt.plot(x2, 'o')"
   ]
  },
  {
   "cell_type": "code",
   "execution_count": 19,
   "metadata": {},
   "outputs": [
    {
     "data": {
      "text/plain": [
       "[1, 2, 4, 7, 11, 16]"
      ]
     },
     "execution_count": 19,
     "metadata": {},
     "output_type": "execute_result"
    }
   ],
   "source": [
    "x2"
   ]
  },
  {
   "cell_type": "code",
   "execution_count": 20,
   "metadata": {},
   "outputs": [
    {
     "data": {
      "text/plain": [
       "[<matplotlib.lines.Line2D at 0x10a441518>]"
      ]
     },
     "execution_count": 20,
     "metadata": {},
     "output_type": "execute_result"
    },
    {
     "data": {
      "image/png": "[encoded data removed]",
      "text/plain": [
       "<matplotlib.figure.Figure at 0x109ef1978>"
      ]
     },
     "metadata": {},
     "output_type": "display_data"
    }
   ],
   "source": [
    "x = [1, 3, 5, 7, 9]\n",
    "x2 = [1]\n",
    "for i in range(5):\n",
    "    nxt = x2[i] + x[i]\n",
    "    x2.append(nxt)\n",
    "    \n",
    "plt.plot(x2, 'o')"
   ]
  },
  {
   "cell_type": "markdown",
   "metadata": {},
   "source": [
    "1. Start with the sequence `x = [2, 4, 6, 8, 10]`.  Create a new sequence using `x` as a sequence of first differences.\n"
   ]
  },
  {
   "cell_type": "code",
   "execution_count": null,
   "metadata": {},
   "outputs": [],
   "source": []
  },
  {
   "cell_type": "markdown",
   "metadata": {},
   "source": [
    "1. Start with the sequence `x = [1, 4, 9, 16, 25]`.  Repeat above."
   ]
  },
  {
   "cell_type": "code",
   "execution_count": null,
   "metadata": {},
   "outputs": [],
   "source": []
  },
  {
   "cell_type": "markdown",
   "metadata": {},
   "source": [
    "1. Start with the sequence `x = [1, 8, 27, 64, 100]`.  Repeat above."
   ]
  },
  {
   "cell_type": "code",
   "execution_count": null,
   "metadata": {},
   "outputs": [],
   "source": []
  },
  {
   "cell_type": "code",
   "execution_count": null,
   "metadata": {},
   "outputs": [],
   "source": []
  },
  {
   "cell_type": "markdown",
   "metadata": {},
   "source": [
    "## PROBLEM III\n",
    "\n",
    "**FUNCTIONS**\n",
    "\n",
    "Remember that we define a function as follows:\n",
    "\n",
    "```python\n",
    "def f(x):\n",
    "    return x**2\n",
    "```\n",
    "\n",
    "To evaluate the function, we write `f(3)` and would be returned a value of 9."
   ]
  },
  {
   "cell_type": "code",
   "execution_count": 22,
   "metadata": {},
   "outputs": [],
   "source": [
    "def f(x):\n",
    "    return x**2"
   ]
  },
  {
   "cell_type": "code",
   "execution_count": 23,
   "metadata": {},
   "outputs": [
    {
     "data": {
      "text/plain": [
       "9"
      ]
     },
     "execution_count": 23,
     "metadata": {},
     "output_type": "execute_result"
    }
   ],
   "source": [
    "f(3)"
   ]
  },
  {
   "cell_type": "markdown",
   "metadata": {},
   "source": [
    "To plot the function, we need to plug a whole bunch of values in to `x`.  We can create these values using `np.linspace()`.  For example, 1000 evenly spaced `x` values ranging from -2 to 4 would be `np.linspace(-2,4,1000)`."
   ]
  },
  {
   "cell_type": "code",
   "execution_count": 25,
   "metadata": {},
   "outputs": [
    {
     "data": {
      "text/plain": [
       "array([4.        , 3.97601205, 3.95209624, 3.92825258, 3.90448106,\n",
       "       3.88078168, 3.85715445, 3.83359937, 3.81011642, 3.78670562])"
      ]
     },
     "execution_count": 25,
     "metadata": {},
     "output_type": "execute_result"
    }
   ],
   "source": [
    "x = np.linspace(-2,4, 1000)\n",
    "#the first ten values when we plug in x\n",
    "f(x)[:10]"
   ]
  },
  {
   "cell_type": "code",
   "execution_count": 26,
   "metadata": {},
   "outputs": [
    {
     "data": {
      "text/plain": [
       "[<matplotlib.lines.Line2D at 0x109e7f550>]"
      ]
     },
     "execution_count": 26,
     "metadata": {},
     "output_type": "execute_result"
    },
    {
     "data": {
      "image/png": "[encoded data removed]",
      "text/plain": [
       "<matplotlib.figure.Figure at 0x1059b97f0>"
      ]
     },
     "metadata": {},
     "output_type": "display_data"
    }
   ],
   "source": [
    "plt.plot(x, f(x))"
   ]
  },
  {
   "cell_type": "markdown",
   "metadata": {},
   "source": [
    "1. Define and plot the following functions on given domains.  Have you seen similar plots elsewhere?  Specify the connections you notice.\n",
    "\n",
    "- $f(x) = x$ on $x = [0, 5]$\n",
    "- $g(x) = x^2$ on $x = [0, 5]$\n",
    "- $h(x) = x^3$ on $x = [0, 5]$"
   ]
  },
  {
   "cell_type": "code",
   "execution_count": null,
   "metadata": {},
   "outputs": [],
   "source": []
  },
  {
   "cell_type": "code",
   "execution_count": null,
   "metadata": {},
   "outputs": [],
   "source": []
  },
  {
   "cell_type": "code",
   "execution_count": null,
   "metadata": {},
   "outputs": [],
   "source": []
  },
  {
   "cell_type": "code",
   "execution_count": null,
   "metadata": {},
   "outputs": [],
   "source": []
  },
  {
   "cell_type": "markdown",
   "metadata": {},
   "source": [
    "## PROBLEM IV\n",
    "\n",
    "You can solve this problem by hand or give it a shot with Python.  You have an outline in our notebook from class.  Use the specified number of rectangles and functions to approximate the areas under the curve.\n",
    "\n",
    "a. Consider the function $f(x) = 4-x^2$ on the interval $[-2,2]$.  Plot the curve and approximate the area using 8 rectangles.  \n",
    "\n",
    "b. Consider $f(x) = 3x$ on $[-4,2]$ with 12 rectangles.\n",
    "\n",
    "c. Consider $f(x) = 3x^2 - 2x - 14$ on $[2,3]$ with 4 rectangles.  "
   ]
  },
  {
   "cell_type": "code",
   "execution_count": null,
   "metadata": {},
   "outputs": [],
   "source": []
  },
  {
   "cell_type": "code",
   "execution_count": null,
   "metadata": {},
   "outputs": [],
   "source": []
  },
  {
   "cell_type": "code",
   "execution_count": null,
   "metadata": {},
   "outputs": [],
   "source": []
  },
  {
   "cell_type": "code",
   "execution_count": null,
   "metadata": {},
   "outputs": [],
   "source": []
  },
  {
   "cell_type": "code",
   "execution_count": null,
   "metadata": {},
   "outputs": [],
   "source": []
  },
  {
   "cell_type": "code",
   "execution_count": null,
   "metadata": {},
   "outputs": [],
   "source": []
  }
 ],
 "metadata": {
  "kernelspec": {
   "display_name": "Python 3",
   "language": "python",
   "name": "python3"
  },
  "language_info": {
   "codemirror_mode": {
    "name": "ipython",
    "version": 3
   },
   "file_extension": ".py",
   "mimetype": "text/x-python",
   "name": "python",
   "nbconvert_exporter": "python",
   "pygments_lexer": "ipython3",
   "version": "3.6.6"
  }
 },
 "nbformat": 4,
 "nbformat_minor": 2
}
